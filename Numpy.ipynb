{
  "nbformat": 4,
  "nbformat_minor": 0,
  "metadata": {
    "colab": {
      "provenance": []
    },
    "kernelspec": {
      "name": "python3",
      "display_name": "Python 3"
    },
    "language_info": {
      "name": "python"
    }
  },
  "cells": [
    {
      "cell_type": "markdown",
      "source": [
        "**NUMPY**"
      ],
      "metadata": {
        "id": "n-kUx-oWXwYN"
      }
    },
    {
      "cell_type": "code",
      "source": [
        "import numpy as np"
      ],
      "metadata": {
        "id": "8Hpu0B9GYF5I"
      },
      "execution_count": null,
      "outputs": []
    },
    {
      "cell_type": "markdown",
      "source": [
        "The NumPy ndarray:"
      ],
      "metadata": {
        "id": "lInwE4gzYC2p"
      }
    },
    {
      "cell_type": "markdown",
      "source": [
        "Arrays are important because they enable you to express batch operations on data\n",
        "without writing any for loops. NumPy users call this vectorization. Any arithmetic\n",
        "operations between equal-size arrays applies the operation ELEMENT-WISE."
      ],
      "metadata": {
        "id": "vFc0iIe2I8ls"
      }
    },
    {
      "cell_type": "code",
      "source": [
        "data = np.random.randn(2,3)\n",
        "print(data)\n",
        "print()\n",
        "print(data * 3)"
      ],
      "metadata": {
        "colab": {
          "base_uri": "https://localhost:8080/"
        },
        "id": "qW5RBYFz0MsJ",
        "outputId": "0ca3c82c-9d42-436d-b7e4-550cff140369"
      },
      "execution_count": null,
      "outputs": [
        {
          "output_type": "stream",
          "name": "stdout",
          "text": [
            "[[ 0.9265091  -1.4491118   0.69232668]\n",
            " [-1.3313217   0.68278237  0.19129813]]\n",
            "\n",
            "[[ 2.77952731 -4.34733539  2.07698003]\n",
            " [-3.99396511  2.04834711  0.57389439]]\n"
          ]
        }
      ]
    },
    {
      "cell_type": "markdown",
      "source": [
        "Shape of an Array"
      ],
      "metadata": {
        "id": "HV106O3o8SYz"
      }
    },
    {
      "cell_type": "code",
      "source": [
        "data.shape"
      ],
      "metadata": {
        "colab": {
          "base_uri": "https://localhost:8080/"
        },
        "id": "dxbWriDy0SZH",
        "outputId": "219678b1-b043-4e0d-9c44-6a5f45a00e5b"
      },
      "execution_count": null,
      "outputs": [
        {
          "output_type": "execute_result",
          "data": {
            "text/plain": [
              "(2, 3)"
            ]
          },
          "metadata": {},
          "execution_count": 4
        }
      ]
    },
    {
      "cell_type": "markdown",
      "source": [
        "Dimension of an array"
      ],
      "metadata": {
        "id": "cSL3fRp-8bwn"
      }
    },
    {
      "cell_type": "code",
      "source": [
        "data.ndim"
      ],
      "metadata": {
        "colab": {
          "base_uri": "https://localhost:8080/"
        },
        "id": "WYXdegUe0co5",
        "outputId": "d0ea317f-f6d3-42a1-cec1-19a505b71e09"
      },
      "execution_count": null,
      "outputs": [
        {
          "output_type": "execute_result",
          "data": {
            "text/plain": [
              "2"
            ]
          },
          "metadata": {},
          "execution_count": 5
        }
      ]
    },
    {
      "cell_type": "markdown",
      "source": [
        "Data type of an Array"
      ],
      "metadata": {
        "id": "pULD8IBL8eFL"
      }
    },
    {
      "cell_type": "code",
      "source": [
        "data.dtype"
      ],
      "metadata": {
        "colab": {
          "base_uri": "https://localhost:8080/"
        },
        "id": "QaDQIrM00eN7",
        "outputId": "969bf652-59d0-465c-e99d-d07a408fd112"
      },
      "execution_count": null,
      "outputs": [
        {
          "output_type": "execute_result",
          "data": {
            "text/plain": [
              "dtype('float64')"
            ]
          },
          "metadata": {},
          "execution_count": 6
        }
      ]
    },
    {
      "cell_type": "markdown",
      "source": [
        "**Special Arrays in Numpy**"
      ],
      "metadata": {
        "id": "izRvT4xR-3NP"
      }
    },
    {
      "cell_type": "markdown",
      "source": [
        "Zero Matrix"
      ],
      "metadata": {
        "id": "19DtISmJ-8qC"
      }
    },
    {
      "cell_type": "code",
      "source": [
        "np.zeros((2,2))"
      ],
      "metadata": {
        "colab": {
          "base_uri": "https://localhost:8080/"
        },
        "id": "m3uT9shY-_g3",
        "outputId": "ac147be0-2d0b-4edb-ab7e-c8eb9d7a90da"
      },
      "execution_count": null,
      "outputs": [
        {
          "output_type": "execute_result",
          "data": {
            "text/plain": [
              "array([[0., 0.],\n",
              "       [0., 0.]])"
            ]
          },
          "metadata": {},
          "execution_count": 13
        }
      ]
    },
    {
      "cell_type": "code",
      "source": [
        "np.zeros((3,2,2))"
      ],
      "metadata": {
        "colab": {
          "base_uri": "https://localhost:8080/"
        },
        "id": "tr4uUfh9_olx",
        "outputId": "8ffb591a-a2fe-4255-c686-f49e95903795"
      },
      "execution_count": null,
      "outputs": [
        {
          "output_type": "execute_result",
          "data": {
            "text/plain": [
              "array([[[0., 0.],\n",
              "        [0., 0.]],\n",
              "\n",
              "       [[0., 0.],\n",
              "        [0., 0.]],\n",
              "\n",
              "       [[0., 0.],\n",
              "        [0., 0.]]])"
            ]
          },
          "metadata": {},
          "execution_count": 15
        }
      ]
    },
    {
      "cell_type": "markdown",
      "source": [
        "One Matrix"
      ],
      "metadata": {
        "id": "nI1hBsSI_W6h"
      }
    },
    {
      "cell_type": "code",
      "source": [
        "np.ones((2,2))"
      ],
      "metadata": {
        "colab": {
          "base_uri": "https://localhost:8080/"
        },
        "id": "zWP2GUxQ_aj2",
        "outputId": "223a1e0e-a686-422a-ec11-97067898a00c"
      },
      "execution_count": null,
      "outputs": [
        {
          "output_type": "execute_result",
          "data": {
            "text/plain": [
              "array([[1., 1.],\n",
              "       [1., 1.]])"
            ]
          },
          "metadata": {},
          "execution_count": 12
        }
      ]
    },
    {
      "cell_type": "markdown",
      "source": [
        "Identity Matrix"
      ],
      "metadata": {
        "id": "XsF2Wt5f88Am"
      }
    },
    {
      "cell_type": "code",
      "source": [
        "np.eye(2)"
      ],
      "metadata": {
        "colab": {
          "base_uri": "https://localhost:8080/"
        },
        "id": "gFFiplBE0hFL",
        "outputId": "f0d0a357-7fc4-466e-b854-fd8e96040967"
      },
      "execution_count": null,
      "outputs": [
        {
          "output_type": "execute_result",
          "data": {
            "text/plain": [
              "array([[1., 0.],\n",
              "       [0., 1.]])"
            ]
          },
          "metadata": {},
          "execution_count": 7
        }
      ]
    },
    {
      "cell_type": "code",
      "source": [
        "print(np.eye(2, dtype = 'int32'))"
      ],
      "metadata": {
        "colab": {
          "base_uri": "https://localhost:8080/"
        },
        "id": "Sju-DGWKYlBd",
        "outputId": "190da082-f857-4698-a447-ef1a197008f5"
      },
      "execution_count": null,
      "outputs": [
        {
          "output_type": "stream",
          "name": "stdout",
          "text": [
            "[[1 0]\n",
            " [0 1]]\n"
          ]
        }
      ]
    },
    {
      "cell_type": "markdown",
      "source": [
        "Full Matrix"
      ],
      "metadata": {
        "id": "tEROuaJTALL9"
      }
    },
    {
      "cell_type": "code",
      "source": [
        "np.full((2,2),3)"
      ],
      "metadata": {
        "colab": {
          "base_uri": "https://localhost:8080/"
        },
        "id": "P8recHOqANHl",
        "outputId": "a7422785-0c7b-4468-8347-24f59bba5d96"
      },
      "execution_count": null,
      "outputs": [
        {
          "output_type": "execute_result",
          "data": {
            "text/plain": [
              "array([[3, 3],\n",
              "       [3, 3]])"
            ]
          },
          "metadata": {},
          "execution_count": 17
        }
      ]
    },
    {
      "cell_type": "markdown",
      "source": [
        "Creating ndarrays"
      ],
      "metadata": {
        "id": "q353qf5zYriu"
      }
    },
    {
      "cell_type": "markdown",
      "source": [
        "1D Array"
      ],
      "metadata": {
        "id": "eZrzO5ubZb1F"
      }
    },
    {
      "cell_type": "code",
      "source": [
        "data1 = [1,2,3,4.5,5]\n",
        "ar1 = np.array(data1)"
      ],
      "metadata": {
        "id": "lrSovtv1YyD1"
      },
      "execution_count": null,
      "outputs": []
    },
    {
      "cell_type": "code",
      "source": [
        "print(ar1)\n",
        "print(ar1.ndim)\n",
        "print(ar1.shape)"
      ],
      "metadata": {
        "colab": {
          "base_uri": "https://localhost:8080/"
        },
        "id": "pcWg1k06Y-HK",
        "outputId": "f9f8704e-a0b8-4a2d-dc89-5e3d1a91babb"
      },
      "execution_count": null,
      "outputs": [
        {
          "output_type": "stream",
          "name": "stdout",
          "text": [
            "[1.  2.  3.  4.5 5. ]\n",
            "1\n",
            "(5,)\n"
          ]
        }
      ]
    },
    {
      "cell_type": "markdown",
      "source": [
        "2D Array"
      ],
      "metadata": {
        "id": "w2xXwngyZsHQ"
      }
    },
    {
      "cell_type": "code",
      "source": [
        "data2 = [[1,2,3,4],\n",
        "         [5,6,7,8]]\n",
        "ar2 = np.array(data2)"
      ],
      "metadata": {
        "id": "FG72LWRcZL63"
      },
      "execution_count": null,
      "outputs": []
    },
    {
      "cell_type": "code",
      "source": [
        "print(ar2)\n",
        "print(ar2.ndim)\n",
        "print(ar2.shape)"
      ],
      "metadata": {
        "colab": {
          "base_uri": "https://localhost:8080/"
        },
        "id": "CndsnYGFZXSd",
        "outputId": "347b0c18-005f-4605-d2c2-bc26595b3c3f"
      },
      "execution_count": null,
      "outputs": [
        {
          "output_type": "stream",
          "name": "stdout",
          "text": [
            "[[1 2 3 4]\n",
            " [5 6 7 8]]\n",
            "2\n",
            "(2, 4)\n"
          ]
        }
      ]
    },
    {
      "cell_type": "markdown",
      "source": [
        "3D Array"
      ],
      "metadata": {
        "id": "q7djYbGHaNyh"
      }
    },
    {
      "cell_type": "code",
      "source": [
        "data3 = [[[1,2,3],[4,5,6],[7,8,9]]]\n",
        "ar3 = np.array(data3)"
      ],
      "metadata": {
        "id": "sl3mN0zTZXL8"
      },
      "execution_count": null,
      "outputs": []
    },
    {
      "cell_type": "code",
      "source": [
        "print(ar3)\n",
        "print(ar3.ndim)\n",
        "print(ar3.shape)"
      ],
      "metadata": {
        "colab": {
          "base_uri": "https://localhost:8080/"
        },
        "id": "NFaNE0M6Z_cL",
        "outputId": "5b8a6a58-41dc-481f-bb0c-77e40a7701f6"
      },
      "execution_count": null,
      "outputs": [
        {
          "output_type": "stream",
          "name": "stdout",
          "text": [
            "[[[1 2 3]\n",
            "  [4 5 6]\n",
            "  [7 8 9]]]\n",
            "3\n",
            "(1, 3, 3)\n"
          ]
        }
      ]
    },
    {
      "cell_type": "markdown",
      "source": [
        "**dtype**"
      ],
      "metadata": {
        "id": "HqxRWgmMIEjW"
      }
    },
    {
      "cell_type": "markdown",
      "source": [
        "Implicit conversion"
      ],
      "metadata": {
        "id": "MZ7xX8Z-IMcF"
      }
    },
    {
      "cell_type": "code",
      "source": [
        "arr1 = np.array([1, 2, 3], dtype=np.float64)\n",
        "arr2 = np.array([1, 2, 3], dtype=np.int32)\n",
        "\n",
        "print(\"Data type of arr1: \", arr1.dtype)\n",
        "print(\"Data type of arr2: \", arr2.dtype)"
      ],
      "metadata": {
        "colab": {
          "base_uri": "https://localhost:8080/"
        },
        "id": "PpKLFr2TH_RT",
        "outputId": "5f10efdf-cdf5-41d8-beff-505c56e15c24"
      },
      "execution_count": null,
      "outputs": [
        {
          "output_type": "stream",
          "name": "stdout",
          "text": [
            "Data type of arr1:  float64\n",
            "Data type of arr2:  int32\n"
          ]
        }
      ]
    },
    {
      "cell_type": "markdown",
      "source": [
        "Explicit conversion"
      ],
      "metadata": {
        "id": "vR0lNb0FISjq"
      }
    },
    {
      "cell_type": "code",
      "source": [
        "arr = np.array([1, 2, 3, 4, 5])\n",
        "print(arr.dtype, '\\n')\n",
        "\n",
        "float_arr = arr.astype(np.float64)\n",
        "print(float_arr.dtype)"
      ],
      "metadata": {
        "colab": {
          "base_uri": "https://localhost:8080/"
        },
        "id": "NjcvhzR1HaYp",
        "outputId": "5a80001f-7648-43d4-a790-773fc741c27d"
      },
      "execution_count": null,
      "outputs": [
        {
          "output_type": "stream",
          "name": "stdout",
          "text": [
            "int64 \n",
            "\n",
            "float64\n"
          ]
        }
      ]
    },
    {
      "cell_type": "markdown",
      "source": [
        "String to Float"
      ],
      "metadata": {
        "id": "JokX2nYAIev2"
      }
    },
    {
      "cell_type": "code",
      "source": [
        "numeric_strings = np.array(['1.25', '-9.6', '42'])\n",
        "print(numeric_strings)\n",
        "print(numeric_strings.astype(np.float64))"
      ],
      "metadata": {
        "id": "xg2GWgX_Id1S",
        "colab": {
          "base_uri": "https://localhost:8080/"
        },
        "outputId": "d301bbb6-dbca-4029-cd89-b5164df5ff62"
      },
      "execution_count": null,
      "outputs": [
        {
          "output_type": "stream",
          "name": "stdout",
          "text": [
            "['1.25' '-9.6' '42']\n",
            "[ 1.25 -9.6  42.  ]\n"
          ]
        }
      ]
    },
    {
      "cell_type": "markdown",
      "source": [
        "**arange**\n",
        "\n",
        "np.arange(start, stop, step, dtype=None)"
      ],
      "metadata": {
        "id": "hJKVsmAxbRBQ"
      }
    },
    {
      "cell_type": "code",
      "source": [
        "# np.arange(start, stop, step, dtype=None)\n",
        "np.arange(10)"
      ],
      "metadata": {
        "colab": {
          "base_uri": "https://localhost:8080/"
        },
        "id": "GzRYnVj-bbUj",
        "outputId": "63e3e831-20fc-4f2f-f00f-c5e17fa16580"
      },
      "execution_count": null,
      "outputs": [
        {
          "output_type": "execute_result",
          "data": {
            "text/plain": [
              "array([0, 1, 2, 3, 4, 5, 6, 7, 8, 9])"
            ]
          },
          "metadata": {},
          "execution_count": 20
        }
      ]
    },
    {
      "cell_type": "code",
      "source": [
        "np.arange(10,20,2)"
      ],
      "metadata": {
        "colab": {
          "base_uri": "https://localhost:8080/"
        },
        "id": "VHBTU_0-bn4w",
        "outputId": "0af15ad7-7a71-4747-8fbc-d5d319662cb0"
      },
      "execution_count": null,
      "outputs": [
        {
          "output_type": "execute_result",
          "data": {
            "text/plain": [
              "array([10, 12, 14, 16, 18])"
            ]
          },
          "metadata": {},
          "execution_count": 21
        }
      ]
    },
    {
      "cell_type": "code",
      "source": [
        "arr = np.arange(16).reshape(4,4)\n",
        "arr"
      ],
      "metadata": {
        "colab": {
          "base_uri": "https://localhost:8080/"
        },
        "id": "LdVMHYSF9m6w",
        "outputId": "2c8ff4db-eddc-401c-ffb0-86bd07cbe2db"
      },
      "execution_count": null,
      "outputs": [
        {
          "output_type": "execute_result",
          "data": {
            "text/plain": [
              "array([[ 0,  1,  2,  3],\n",
              "       [ 4,  5,  6,  7],\n",
              "       [ 8,  9, 10, 11],\n",
              "       [12, 13, 14, 15]])"
            ]
          },
          "metadata": {},
          "execution_count": 22
        }
      ]
    },
    {
      "cell_type": "code",
      "source": [
        "ar = np.random.randn(4,4)\n",
        "print(ar)"
      ],
      "metadata": {
        "colab": {
          "base_uri": "https://localhost:8080/"
        },
        "id": "-rbQvoJ8-AYC",
        "outputId": "d53827cd-5547-4dd5-cb94-fbf9fb4fac2d"
      },
      "execution_count": null,
      "outputs": [
        {
          "output_type": "stream",
          "name": "stdout",
          "text": [
            "[[ 0.32693665  0.13124526 -0.8773535   0.23834542]\n",
            " [-0.50853948 -0.30061065 -0.67179207 -0.60339964]\n",
            " [-1.12531053  1.97222641 -2.55840951  0.15586001]\n",
            " [ 0.99840697 -0.15894042 -1.01036492 -0.51952085]]\n"
          ]
        }
      ]
    },
    {
      "cell_type": "code",
      "source": [
        "print(ar>0)"
      ],
      "metadata": {
        "colab": {
          "base_uri": "https://localhost:8080/"
        },
        "id": "tHQNgGnGGG3h",
        "outputId": "fedc1a81-b43d-4af8-d746-9226d2c1fc43"
      },
      "execution_count": null,
      "outputs": [
        {
          "output_type": "stream",
          "name": "stdout",
          "text": [
            "[[ True False False  True]\n",
            " [ True False  True  True]\n",
            " [ True  True False  True]\n",
            " [False False False  True]]\n"
          ]
        }
      ]
    },
    {
      "cell_type": "code",
      "source": [
        "np.where(ar>0,2,-1)"
      ],
      "metadata": {
        "colab": {
          "base_uri": "https://localhost:8080/"
        },
        "id": "Mt7JA7wzGPLN",
        "outputId": "8f864a6a-57f0-4d73-ca4e-901ac1d86727"
      },
      "execution_count": null,
      "outputs": [
        {
          "output_type": "execute_result",
          "data": {
            "text/plain": [
              "array([[ 2, -1, -1,  2],\n",
              "       [ 2, -1,  2,  2],\n",
              "       [ 2,  2, -1,  2],\n",
              "       [-1, -1, -1,  2]])"
            ]
          },
          "metadata": {},
          "execution_count": 25
        }
      ]
    },
    {
      "cell_type": "markdown",
      "source": [
        "**Indexing and Slicing**"
      ],
      "metadata": {
        "id": "Lbob0CuEJQ4a"
      }
    },
    {
      "cell_type": "code",
      "source": [
        "ar = np.arange(10)\n",
        "print(ar)\n",
        "print(ar[5])\n",
        "print(ar[3:6])\n",
        "ar[3:6] = 0\n",
        "print(ar)"
      ],
      "metadata": {
        "colab": {
          "base_uri": "https://localhost:8080/"
        },
        "id": "iYR9tGI1Jrf3",
        "outputId": "17d268ab-7379-43d3-8961-517368167d9e"
      },
      "execution_count": null,
      "outputs": [
        {
          "output_type": "stream",
          "name": "stdout",
          "text": [
            "[0 1 2 3 4 5 6 7 8 9]\n",
            "5\n",
            "[3 4 5]\n",
            "[0 1 2 0 0 0 6 7 8 9]\n"
          ]
        }
      ]
    },
    {
      "cell_type": "code",
      "source": [
        "arr"
      ],
      "metadata": {
        "colab": {
          "base_uri": "https://localhost:8080/"
        },
        "id": "SYa_G30BJxDN",
        "outputId": "999470d2-f753-41f2-cb09-063cefdc9695"
      },
      "execution_count": null,
      "outputs": [
        {
          "output_type": "execute_result",
          "data": {
            "text/plain": [
              "array([[ 0,  1,  2,  3],\n",
              "       [ 4,  5,  6,  7],\n",
              "       [ 8,  9, 10, 11],\n",
              "       [12, 13, 14, 15]])"
            ]
          },
          "metadata": {},
          "execution_count": 27
        }
      ]
    },
    {
      "cell_type": "markdown",
      "source": [
        "![Screenshot 2023-07-12 090452.png](data:image/png;base64,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)"
      ],
      "metadata": {
        "id": "jfX7wpNKKq3E"
      }
    },
    {
      "cell_type": "code",
      "source": [
        "print(arr[0,0])\n",
        "print(arr[1,2])"
      ],
      "metadata": {
        "colab": {
          "base_uri": "https://localhost:8080/"
        },
        "id": "A_83LAcgKUVC",
        "outputId": "a869e8a2-dc7b-4a45-ba7b-a8cd9e1b9a24"
      },
      "execution_count": null,
      "outputs": [
        {
          "output_type": "stream",
          "name": "stdout",
          "text": [
            "0\n",
            "6\n"
          ]
        }
      ]
    },
    {
      "cell_type": "code",
      "source": [
        "arr[1:3,1:3]    #[rows, columns]"
      ],
      "metadata": {
        "colab": {
          "base_uri": "https://localhost:8080/"
        },
        "id": "3keGMcphLCaW",
        "outputId": "217795f3-2142-48a4-c5e3-7b7747310f3c"
      },
      "execution_count": null,
      "outputs": [
        {
          "output_type": "execute_result",
          "data": {
            "text/plain": [
              "array([[ 5,  6],\n",
              "       [ 9, 10]])"
            ]
          },
          "metadata": {},
          "execution_count": 29
        }
      ]
    },
    {
      "cell_type": "markdown",
      "source": [
        "![image.png](data:image/png;base64,iVBORw0KGgoAAAANSUhEUgAAAyYAAAIWCAYAAACiOpkrAAAAAXNSR0IArs4c6QAAAARnQU1BAACxjwv8YQUAAAAJcEhZcwAAEnQAABJ0Ad5mH3gAAM5TSURBVHhe7J0HgBRF1scfOWdEQBAVFSUYMLASRDErGDGHOwx3hvOMZ0RFPU89zxwRUMGAIirmnAMmUFRUVCSIIjlnlv3m99jia8fZvNOz4f/TYmZ7qruru6u737/eq6oqWVlZOVbGOWrQMNuv8Vd2/7m32ye5y0TZo9s/77K/bV8n96/AdHv1lKttVO5fIo10P8fuOmU7+9MVeP0Uu/rx3D+EEEIIIcoo5UKYCCGEEEIIISo2LkzGjh2b+6cQQgghhBBCxE/V3E8hhBBCCCGEyBgSJkIIIYQQQoiMI2EihBBCCCGEyDgSJkIIIYQQQoiMI2EihBBCCCGEyDhpESbTpk2zO+64w6677jp75513cpcKIYQQQgghRGpKXZjk5OTY0KFDrVq1ataxY0e7++67bdasWbm/CiGEEEIIIcSfKXVhMmPGDPvll1/sgAMOsEMPPdTatm0rr4kQQgghhBAiX0p9gsVPP/3UHn/8cbv00ktto402smHDhtlvv/1mV1xxRW6O/+faa6+18ePHW61atXKXCCGEEEIIISo6y5Yts2OOOcaOP/743CVpECYfffSRPfPMM3bRRRe5MBk+fLhNmTLFBg0a5L9PnjzZQ72++OIL+/XXX+2GG26wbt26+W9CCCGEEEKIig96ga4fJ598cu6SNAiTSZMm2U033eTekFatWrnwaNSokZ1xxhm5Of6fgQMHWt++fS1RhtwlQgghhBBCiIrOyJEjbeXKlTZgwIDcJWnoY7LVVlvZqlWr7Ouvv7bff//dXnzxRdtvv/1yf/0zVapUyf0mhBBCCCGEqKyUujCpWrWqXXjhhTZixAhXQKQtttgi91chhBBCCCGE+DNpmcdk++23t0ceecRefvnlP8SNCSGEEEIIIUQq0iJMhBBCiIoIc3WR1q5duyGFZaJ8Er2mq1evtjVr1lh2drauqRAZQMJECCEqIRhdGF9RAzs5rVu3TsZZEsGAnT17to8sOXfuXP9b56lswnUJifqO6KAfLCkIEOAaLliwwOdh47oyjCn1XwgRLxImQghRCcHoWrhwoc8zNXXq1D8ljLOlS5fKOEsCQxZR8sADD9jNN9/so8rMmjXLjVxRtghikU88IYsWLbIff/zRpysYN26cff/9934PIFKWL19u77//vg0ZMsT7yPIb6wgh4qXUhwsuCgwX3K9fP81jIoQQMbN48WJ79dVX7bPPPvO5ppJp3bq1HX744bbrrrtanTp1cpeKFStW2IQJE+zvf/+7z8u100472fXXX2+dOnXyofFF2QFBgrCePn26vffee37dqOt4Q/iNen3cccfZjjvuaE2aNLHBgwfbU0895dfxnHPOsb333tsaNmyYuzUhRGkTy3DBQgghyj60BtMq/Pbbb9s777zjBhuhLHhJSLQgywvwZxh5smnTptajRw/ba6+9XLjxd/Xq1XNziLIC3i2mLUCA4+F6/vnnvV5vsskm1rZtW7+WTO5GEkKUDaq1adNm0Kmnnpr7Z7y89dZb1qFDB0uUIXeJEEKIOMBA+/TTT12c1KxZ0/bZZx/bY4893NDeYYcdfHRFns+0HtOihYcFbwEtzRh0zEFFXD6tz/wW+lnQQk3IDOExfGcd+mEgevgdI5B1+Y0yEErDNviOIUke/p43b55vh7wY/WEdysI6c+bM2bBftkmZgHxsg8Q258+f79ti/6zLNkL+kJf9IsbIS1nZLnn5PZQ35CEB52yzzTazzp07W5cuXbz1PZSBbQLCjmOgrJSBcwJREcOxsk32x3L2TTlIbCf52ETh4fxTv59++mn3luAFPProo+2ggw6yXXbZxeddo663aNHC6xHhXd99953Vrl3bdt55Z1/O9SNx/bk+4VpQj7ie1MVwvbiO7DPU11BvuKZcZ76TqIvUM9YnT7Q+QKhrbJN6w7qqC6Ii8s033/i9h9cyIGEihBCVEIx2wrgmTZrk4oOwrT333NMNNZ7LzD/VuHFjN4RmzJhhEydO9I7BGEgYbhjmGFg//PCDG38YZDVq1HADmxh++mEgSljn888/9/XJU6tWLatXr54bX4RCYTCGPi2sy0uK5azz008/ucFPmA1GGQbetGnT7Msvv/Sy//zzz7ZkyRIvD9sNBiH7YTn9CcaPH+/7+Pbbb93IY78cL/mBv2lV5zjIS9nZP2KCPORl35SN7TF5MOcDjxPH26xZM29953swFjFa+Z185P/kk0/sq6++ckOT46tfv76fP/KxL64B/VTq1q3rZaUMrEdejp8UBJIoPNQDzvsLL7zghj5i5NBDD3UhiUihjuPt4jpzPwRhwrXZcsst/RqyjOvDd65PgwYN/B4gP/WWukhiP4SMIVSoj+TlmiE++J28lIHENaZ+U8eos+Rln6Hucl9RX6kHrEs/MOof2yVJnIiKQiphYvQxyRSXX355zscff5z7lxBCiLhIGEU5gwYNyunatWtO7969c5555hlfljCW/5AShlLOiy++mHP00UfnbLLJJjnHHHNMzmuvvZaTMMByxowZk9OjR4+cNm3a5Fx//fU5CYGS88orr+QkDD/f7v7775+TMP5yGjZsmJMw/nK22WabnH/84x85CXGRM3fuXH8HJAzDnISxlZMw8HOOOOKInL/97W85W2+9dU5CEPi69957b07CoM9JGHi+jz322CMnYRz67wkD39c/6aSTcl566aWchHDxMieMupz77rsvp1WrVp6HvAlxk7P55pvnnHzyyTkJY8/zJYy9nIQxmXPIIYfktGvXLidhIHo+8m+66aY51157bU5CMPg5mDJliped3yhvQiz4vjkvM2fOzEkYrn5e2e6iRYtyEmIkZ6+99spp0aKFH3vC8PRyJ4Rfzu23356TEEk5CfHk++Bcde7cOefcc8/1c8n2SQmBmHPDDTf4eWW7omgkxEPOc889l9OzZ8+c5s2b52DvUGepJwljyM9pSFzna665xutup06dcnbfffechODMSYhov37bbbddzjnnnOPrUW+o53vvvbfXB34Pif3st99+OQmR63UiISpyDj744JyOHTt6OfiNus71pW72798/Z/To0Z6XbSeEkd+X1IPGjRv7vUOi7p599tk5CQHt9VH1QVQEHnvssZwHHngg96/1yGMihBCVkKjHJGFYuzeCVloGQ/nggw/cg7Dxxhu7d4OQFlr56Y+CxyJhVPk6xOzjZaAVmoFM2rdv763GCePPPQEJ48k7ECeML/dM4DXBk0FrdUJ8eCgNrdiJd5F7VoInghbthACyhGDwwVHYH/0E/ve//3nehBCx2267zffLcdCxmdZnOqAnDEMbNWqU3X333d7yTCfmSy65xNORRx5pCRHmHg5aqDkGJgMmP56PY4891oYNG+Yd2ykzHds32mgjb9VOGJ1e3oRhaQceeKB7iTgW3l/8HVrIadmmRTwhONxTsttuu9mZZ57pHilCgoI3hnOLJ4iWc84hHiM8QKeffrqXkd/YDsdHyNi2226rFvJiwLUjbArPA3WXOsw5x0vWsmVLv254IDjPeEfwfOAZw1vItaYekhfvHfXlqKOO8rpDfUiIV69T5513nk8mTR2iHrMvQvyoO3jS6FCPx4T6TX1hm9TVcM3xllE/yEPYGZ3wE0LI6+wVV1zhdhJ5KTteHspNp3zVB1HeSeUxWe8PFEIIUSnB0CfECKPsjTfesJdeeslefvll+/DDD92Q5nfCVzCk+vbt6yKBfCNGjHADjFAYDDiERggxAQxClhHTv++++3pncQwq4uUx8tguRhoihOUYe7yg2M9f//pXFx2ElmH8Ef7y2muvudBAVPASIz/GWbt27dxIxHgMwoYQMkQD3xFKGJTsD4GFIOAYALGEIGO/HCshMyG8plWrVp6X7xiA7AOBgFgh3I1981syGMGIOoxbjh9hdvDBB/uxIN46duzo+yFkiDICAo4y9ezZ0w444ABPWVlZfj4pH8cjig5CketIn5ITTjjB+00RWvXRRx+5AL300kvd2MfoD3CtEeH0MUGcIjq5jgh0RCfXg7pEnUV0du3a1TvTI4ipq6GhlbBB8gL52S6/MWAC20R0b7755i6IqLfk5X5CvFMfKCv1j3rHvhDFQL2KlleIioaEiRBCVGIwmBo1auQGM8YwxjEiAuMbQcLvGOAYR7TkY3xh6NOaj5GHoY6YoIWZvIBBjXGH4UXLMQYZif0gAuh/gvFF3wkMfIxyjEi8BJSDfSM42Cd5MMzx5rA/Wpfx6ODpePLJJ92Q43cSwgWxgUcGDwMGIYKLVuiHH37YBRWiiLz8xrYxOtkvBiKG4YMPPmiPPvqoj1SGgEDckJfy0brOcXIctISnApFHqzmGJv0U2D7njGNBhGHEIkhCvwHgXLDt7t27u/jhXGGUsk+OhySKDvWR80odRGQgeBGHXAvOP144vHv05aBeAnUXkbHNNttsiOjgeiMQuE7k45N81A08LIh5vCIff/yx122uF3WV/iIB8lMvqdtcY+oG9Y66hVinTuBNQ3RQPxEgNBBQz6m3eHvYLvULES1ERUXCRAghKjkYzoSSnH322XbRRRfZhRde6OFSGHDBK4CBh9DA64AxhRcDwx4BgLjA8ApgECJMMPBoacbAxsMRjPlUhja/YQQSqsK+WAcwAjHgMcgw9PgkjIpwHIxCBAUGJC3MeG8oB63dJ554ogspyoLBeM8993j4F8PGImbYJuXGk4F3hnU4rtGjR9tdd93leTFaETIYmYUFIzMIJEJ7EHfA8SBqOB8cB8Zn9DxwLjGgMYCDwBMlg/NIfUAAEBL4l7/8xcOuqNuIb67Viy++6OGL1COuP/m5bnhauBb8TYpeEwQJIViIkaFDh7pAxvOCFwyPWar6Hd0udZ0UvHHAOtQb7ivqBwKFMJcwyAPgneH+CHVKiIqIhIkQQlRyMJIw0jHsERMkjOggJDDY8ADgJWG+E5ZjZNFyS1gMrc9R4x1jizzByMbowmBjGyxDCCWHQWG40TLNfvkeYH3yIlYQNwxnfP7559t1111n//nPf+zGG2/0GdgRVHgc8L7gpaCF/JZbbrHLL7/c/va3v3nMPoYj3hDCwvC8sF3KctVVV/kkiZdddpn3IcB4xChk8q/XX3/dxVBh4bgpA+UmnIeWcM4f54DtYHhyLJzrcH4B4cKy5PMiig/nHWHLued6IP7wWlE3jj/+eK+L1GFG0kKYAPlCHxK+J8M2qTuvvPKKC1g8JNQ7+jJRd6h70esaCPWYbUfrAtc93Ht8sl/ugcMOO8z+9a9/eR2nbv73v//1eo7gRsAKUVGRMBFCiEoOBhKCg3ApvBAkOsXTgothR8syXgZahumDgTig3wgtt8yF8uabb3pfDvICxhutvhh9LGe7dPDGAKRDMN4NjDeMM+LrWR68CBh9CB0Megy4YLiFfiXsn1ApvuOVQQSwX0Js2Caihm0QCsN3OtfjDWKeFgw+DES2jSGKmKJlmoQng1Z0jEvWoZyUBzHFtjkH9GPhPHFMwePBcsrDMo6DfeD5QXww5C/Hjcjh/L377rserkNIDwYyxxWgXMFLJEoH6gXCgRA9Ep42zj91Ay8Ev3Mt8AxyvQoDdZs6SL3l2hOSRd1EzFOvwpDUybAv6lwYmpq6QHgW64WwScLHCPPiXuA3tk/9pp5T36lziBvEixAVFY3KJYQQlRCMJMJEMNboM4I4wVjDgKNfBgY4ITB4RjCSeF4T9kIoFx136VvCOowkhADBwKNfBIYgMfcYaRhV5CFUhn3RYk0/FjrRY2yxL+LnCcvC0MN4IyEYMBQx8jHEWAZ4bPC8IDwoP/tG9LA+y+iXwnr0QaGsHA9GJPlYF6MUMYCoIiwGwUFeykAe8pInzMNC6Bp9bnhP8RsiDA8RQoPwMIQI4oeEOMFgRNCwXYxP9s95oGwIk/fff9/XQdhxDjiXbBMhiOHJCE+0nIdQIVrlKS/nDDGXqgVfpAYBwXnkWoX+HwgS6jvXnL+pmwxOwDXmWnPd8apRbznnhE1xXbgOXE/qIZ3o+eT+QHQGTwjXi/sGkYug79Wrl9cbrh8hgQgSykRdoQz0YeK+Q5Qw2AEePX5DCFNXyM93hA77ov5Sbu4x6gj3kuqDKO9wf/K8jI7KJWEihBCVEFpfMcQwqPBQ4L2g1R/DnH4VGEX0H0FwYIw/++yzLkAYVQjDnk7qtAxjsGHUY5AjYmjtRRRgyGOgYQySB+MNAwyDnJZh1qVzL14YhA99PkiUBYOR0bcIs8LYZ12MeLZHuTDs8OhgrGHUY/gjdCgTng/i/SkDYigILcpI6/Tuu+/uozRhiHI8hHWRl3xhQjtESRjNqU+fPn5sGIvkw0jlZcrxcQyIKEQJxiPnKvS5oRyUEQOTc8A5JT8vYEKJMEQxeikj+TA0Cd/B6GSbXAuOg7/pH4GHRYZo0UCYIFy5btQBRAfXkTrOOUY8EBrFNcHbRn3iOlGXECbUEZZjq1B/EA4MKY1gp66yHa4T1546wzWnjlE3GLGLkbSCMEGEsJz81F/qLGITkU9fKMIY2S/1gHuIOsF9QXkpF5+IcsK4qJtsV/VBlHdSCZMqiZsvh9asTDBw4EAfIYOHrhBCiPjAaMPYwkDC2E8GI4t5SRAbGFUYVEBDEqEvtCrTmotxxvosw7jCoKITPeKCZzst0izHaMdQw8hnXV5GrIvxlRz6gtFFSAutwyFen9ZmvCoY+ggBDEEgL/smIWbYdjAWOTY8FoRIYUyGsB0MOwxAvC7sn3KEjscIIY6ZfeOBwdBkfbbFfjlmypIM5cSQpQwYsOwXA5QWdEQf22VELs4fefDssB2EIXnYB63nnHfODUYoRjXHE0bqkiFaeDi3nEfEAMKQOoy3Cm8HnjiuK9eXa8G1IS/1hvqFEOZaUg+4Lggarj/bJMyP/IhatkudYF22R53h2pOXbSOmETCMBkZYH9eQoYKpg/zG/cUy7o8QxhfCGRFIfHJvIWDJwz64h+QxERUF+vFxjwwYMCB3iYSJEEJUSjCyMNJSGdkBDB8SeUI+DC+ILg+/YVQRbkJHYKB1+YwzznBjO3g+osZUfvuP7icQ9oWo4mUGGG1sO7lciB3ykVhGPlJyPqCFOiQMRPJRVvKG/ZOX8uYHeUMK+UMZ2BYiI/kcRLcb9hfKlbw8up7IH85hOI/UBa4t14FzSn3hGnOtwzkN+cM60WvPOsnL+TtcX74jTLm2wPJwvRAXCBPEDV4UOrQjNPGOsE7IFwj7Cd64UCfJS2L/kLyeEOWRVMJkfQ0XQghR6cDIwejJKwUjLJovahCl+i3Aclp1Q4hKMMKi5Lf/5P2ET9bBwKfVm4TnIVV+jMTQT4UyUJZU+UgYqYgn8tIJGcM15A3wPZQtr0TZottmWTgHbDdqiCbnI0WXpVouikY4j9SFcB3wnFEvkgUi3/Ory8nL+eRvtsv2oteW5dG6ECAP9SDUseT6Ej5JlC9aJ6nzYf8hrxAVEQkTIYSohAQDp7RTMqnyFDWV1nbKSgqk+i2/JApPqvOXiRRI/p6c8lqeXxKiIiJhIoQQotSgJZj4eRKeEiEqM3hF6BPC/YC3JoR7CSFSoz4mQgghSoUQcx860xPmQjgKxpkQlRE6xtNRnk9CBhHryWFkQlRW1MdECCFE2sDYwviihZhE7L0MMFGZQZTTt4URvhhBjn4iQoi8kTARQghRKiBCMMRoESZFOwsLURlJvh/4W/eEEHkjYSKEEEIIIYTIOBImQgghhBBCiIwjYSKEEEIIIYTIOBImQgghhBBCiIwjYSKEEEIIIYTIOBImQgghhBBCiIwjYSKEEEIIIYTIOBImQsRETk6OUjlKQgghhIgXCRMh0kBehm6q5UplL0WvlRBCCCHiQcJEiFImaswG41ap/KTodUv+LoQQQoj0IWEiRJoJhq1S+UmB6HchhBBCpBcJEyFKkWDIRo1c0rp16yw7O3tDWrt2ra1Zs0apDCSuBdeEaxRN0esXrqkQQggh0keVrKysnLFjx+b+GS8DBw60fv36Wbdu3XKXCFE+iRqt4TvG7sqVK23JkiW2evXqPxm7IYnMUadOHU+1atWyatWqWdWqVa1KlSobPpNTIPpdCCGEEEVn5MiRbicNGDAgd4mEiRClQhAY0c9Vq1bZjz/+aOPGjbO5c+duECZ8hjzRTxEviIvNN9/cttxyS9tss81cnCBIEChRkZKcwrpCCCGEKD4SJkKkiajICGn27Nn2/PPP2/Dhw23WrFn+ezJxiZJQJseN6kwY1on9bzjcxJcNxn3cZVlfCPa63XbbWe/eva1v377WoEEDq169+h8S4iSkqDABiRMhyibJz9Xyeq9WlOMQIi8kTIRIE+EFEgQAXpHp06fbI488YkOGDLFOnTpZ9+7dbeONN/Z8cfP666/bB2M/sbnL19q6Lv3MatZbb5nHydrVZgt+NZs+jjesWduuZs02NataLTdDTGSvNVu+0Oznj61jy7q2d5897dhjj7UmTZq416RmzZobPhEnqbwnICNBiLIJz19SuF+5f8sjvEsICQaeQ3rmiIqGhIkQaSIqTMJLcdq0afboo4/aQw89ZIceeqidcMIJHjYUN5TprrvushEjn7Sp81fa2v0vNavbNPfXGFmz0uy3iWZfPJ0QIwlDYfuDE+Jkx8T36rkZYiI7IZAWzTT7dKRtXXuJ7d6zu/U/4ghr1qzZhj4ndevWdXFSo0YNT8EoCIZB9Lv4MwwqQP3/7rvvPIyROsg57NKli2211VZWv359nb8IU6dOtZ9//tnPWTComzdvbnvvvfeG/k+icDCYxeLFi+3VV1/15227du2sRYsWub+WHwgF/vXXX+3777/359H2229vjRo1KrciS4hUpBImquFClBIYX0GgBHHC3xgZtWvXdmOMF0vcqWHDhr7/qtUStzsvtZp1zWrViz+x3xq11ntIqiRS9dqJZXVS501nwltUI7HfhCDKzl5nq1auMgYoWLZsma1YscIfktGRuqLXVRQOzt9PP/1kL7/8sqdPP/3Uvv76a/v99999IAidzz+CIY2HlXNEQ+Gzzz5rY8aMseXLl3sdFAUT7lOEMP36CKNF7HE/l0e4h+bPn+/14ZVXXvG6wTNKzyNR0ZEwEaKE5PWSSH6BhFb2TCTfv/8Lud9YHmtav1uH7yzjy5/yxZXWj5y2avUqf+EHYUJLJS3+UWEiigbnDaPqt99+s3r16llWVpbtt99+7i3BI1VcuBZsm2uD4VZRhCMhnjvssIPtv//+tuOOO/pxTZw40euh6l/h4d798ssv7YknnnCxhxeUEM1AqCuhDpHirj9hf2H/pFCPo+Cppfx4yxD2zz33nHtQyC9ERUbCRIhSIPpSCS+ekETZhZc8xszSpUu9dToqTCqS4ZspECHt27e3nj17elgSoTUsC2K5sHD+uRa0fs+bN89bwglxmTlzpgtKrmNc14l9sD/qCvumTCXdN6FGhOrss88+LuLatm2b+4soDOH8jx8/3l588UX74IMPbNCgQbbLLru4pzrk4bpxn1NvfvjhB69D1CeuZSpxUJqwbfaBx3DhwoXuIWP/v/zyi4sonjfR/SNMqAfHH3+8HweeE8QJg6qQL51lFSKTSJgIkSb04ij7YCisWb3GjUsMhuiEi+HlX56uYyivH1fiWDiuILaC4RNNLCNfVIhx7JyLcE7C9qJ5yZOcl+UsI38yyR68ZGES9hEtR3Q7LMOAxNj861//6oMVnHTSSXb44YfbpZdeap988omLhHRBWUiUAyOSUKELLrjAjjrqKLviiitswYIFXuYoYR2Wh3NX0PkRxYPzSj0nXh3RQb3o2LHjH/oyEa6JcOF6nXjiifaXv/zFjf4jjjjC/v3vf7uHKtz36YAyMjrj448/bqeffrqXgXTkkUfacccdZ6+99prXo7B/yo23hD4yCFaE6wsvvGDffvut329CVFQkTIRIA+l6uYnSxQ3HnPWGIykY3CwPqbwQyooIwTjDgPnoo4/s7bff9tbWSZMm/cG7gHFDPxAMsm+++camTJniRveMGTPs888/91bnL774wvMtWrTIO2aTj+3SykuoFq2+GOnvvvuuezFojS4K4Rxz7ufMmeNlpCUbI5JyRsFIo7/UbrvtZn/729/cqOvQoYOH7rzzzjvef4XtpAu2zTG++eabdvfdd/t+OX4EU16Cg+UcFy3jnDfOY/JxiZJDnaf+Mm8UdWSvvfbaMC9RFIz9TTfd1A444ACvQ6eccornIVTqmWee8e2kuo6lBftHLHXu3NmOOeYY+/vf/2677rqr1/dhw4b5fZVchxkZEE8jXhM8u9wj3N9CVFQkTIRII+l8yYnSgWuEAZksSMrjteMY6NdBx99Ro0Z5WAsdZ5988kk3fL766isPIwGMnDfeeMPj8R9++GF7+umnvUWZcBGW0TqLEU5LNGIFocI2mZeH4acRIxhz5GX7bLs4XgvOM4IIATVixAjf3oQJE/6wLUQJIWB77LGHj+R48MEH+ycGKIYbo38Rf49XIh1QRozHjz/+2DvzU55WrVr54BKc87zA0MWbM3jwYB+dD2GHOBGlC3WUOoCIbtmypY/+hggI3hJg+O/WrVt7HQr1h9ESmcsIrx/iJIR0pYMgSijbgQce6GU45JBDrE+fPrb11lvbhx9+6OKaOhNgHYQToX6I8KZNm7o4RsAIUVGRMBEiTZRHw7ZSkrhMQYhEU3mEcgcPBzHqGGKEgmDcICyeeuop90iQD6OHVmWM+dBhGKGBFwURgIFH51vWxfgnL4bbe++956NGEXqCJ4C87IeWavIVB4x+hM7o0aNdEIURiAKUgf306NHDQ1ooG/uk5Zky4qlBaKXTG4HByvGx7wEDBnhfEMRJfnAtPvvsMxdziDe8U4gwUbpQV6jDdHTfbLPNvE5ERQkwMuEmm2zigwxg5DPgAH04EAWNGzd2wZ7O+kMdRpiwv5122sk9N9Ql+mAxKAT1AlGSqgyUnfJus802LsDxXgpRUZEwEUJUeoIQKc+iBGjJxzAjROXiiy+2c88918455xwPW9lzzz29VZgWV4wfWl8JhyIvxhqGPSEitCTTb+PCCy+0U0891b0CGHL9+/f3/AgdWmwRKvSxuOSSS+yqq67yzu1sszhgsBGiRSsyI1Ntu+22PndDKsI1whglfIdPjDaMPMRYOsDI5dg4N5xTREm0/0JecI44t4Tt0DrPeWzQoEHur6K0QAASxoVYRXwgAgoCoYnQ5n5AEGyxxRYufguzbmlAHSZsi34nzGODUAmTvCZDPeN+IKQLEU8HeO7h8vysEiIvin0HcmNcffXVdv3119uNN97oLm7coYQQ/Oc//7E77rhDLUNCiHJLeXvpByMZw4ZE3wbCq/CU0JqMFwUDjuc0Rhn5Q+JvDO1OnTp5Cy7fETnBSIvmJbF9WnkJS2E4YPIV16Bje7RYH3TQQfaPf/zDhVJ0NKUoQZRgUBJr//777/tyyoFBmi5hApSTY6WsfC8MtHQTOnTRRRfZP//5T28pZ31RumCkU7+pM0Ew5neNqEN42RDq9KMizAvhzmdhr21JYP/ccwgS+nPR/4jwLjxwedVhvHWIY8QM9T9dYYtCZJpiCxPcnrzwGPmia9eu3lqFy5qOkLQ8IFxwywshhEg/wdjB80GIFSFX9C+hn8lbb73lMfjR+HWIGmGEYiE28JAkC5IoGEh4KBACQcCEfKny50fIzzYw2Gk1btOmjQsAlqUCYUU/GkQJreS8b3gHRctd2oRysv28ypUK8ofjwpMVzpcoXaj7GOyc7/zqAPlIeNkQBfSZYj08dN27d3dRUJT6WxxCWbGhCF+k8QBB1LdvX5/tP1X5Q/3j3uOT+1yIikqJnuI8cOm4xVB2PHQRKrwkcMcz/N0jjzySm1MIIUS6wWing/WQIUO8DwgG0M4772y9evXyTr4YQKnAGEIMIDgIZ4G8DDQMawwoWm/5XpqGXH6GJQYdLeM0eiFKEF2Evuy7777uMcGLEy0L+THgOAdhGOJgmMYNx1Sa50n8Ec4v3imuc16ehHDdqUMIdwT7q6++6gMoIAo233zzP9W9UIfCdksSPhXqHglRgreGvlo0FrB/7lPC/FLVk7Ae9zdlREBJ4IqKSomECa50xpS/7LLL/EYnVpJOZ8RCEktL7KYQQoj0g9HEqD4MEcyzF2OHTtqEiNBhHIMH4yYV/EZrLMIlL2EQIC/5SrN1GYOL9wmhwAgOjiOVgcnoYLRyM8IY7xjCvgiV4p2TyqgknJgO/w888IC3ThMCk9c5SBcMNoABysACdFxGIInShbq70UYbuWglhDEvuEcInXrwwQe9XtCAGiYwTBXGRR3ErmHwAhpaWbekUEZGtSPcHTF19NFHex8kREl+YgMBQ98uGhBoFOCYhaiIFFuY4CEZM2aM3Xvvve56Z8QROk6GG5sbjIdAMoz4QrwtHSV5WPNCEkIIUXLoQxJG98HQwvuBMUyYLUMBR0O5aAkmpIXQLwwwDGYMd/4mX2gdJvE7Mfnk55kd/Zt9FrclmXUoB0IEY5H+infeeaePzMX8IAHKxnHddtttLl4QInjqCd/C0GOUIgzSqNHP98mTJ7uIYbuIE8JmOL7iwjEzfwsT4fGdc0GiBZzEueB4wrmYO3euv+dovPvvf//rBqmGei19qOcIVeo6c8tQf5PrI9eLvhzUB4ajpi/V7rvv7nWZ9Qjtop8Kfwf4G+8cwuR///uf96mlzqeybQqCekF9wEuDyKEeMuADthT7oTGBupyqfrI/Or0TjokAYzSx0moUEKKsUWxhwkuPsC3G16ZDH+qdlxo3Pzc2Nxju/mQYVYIHNOPnM4Y32xFCCFEyMFQIr8Vo4RlMCz2tssxRgiHG8jDiD0Ybhj9i4P777/e5NmjZx2C65ZZbfE4FjCXAoMIjznDC5GfIWzoMjxgxwkPG8ETw3C8JlD0YX6RkeLdglGEkYlwyGhct3ogYjEUmPMTgiw64wjYRMHh2WE6jGAKGbRUX5lq57rrrfAZ6BFI4F7zTbr75Zj+PnPtgFNNAx98cUzifCsEpfbjODB3NteUak7gGUXHC+Sd8Cq8HdYE6jeDg2jFgz1133eXDVEfrEHUndDhH8BAmiTCNipfCQv1mG4S8I5ApI3YQc9wgnCkD4WX0mwqEY0AMhWGCGRUPMQMSJ6IiUmxhQusQbnXcnNys3LiEDPDSwCX/2GOP2WGHHZabWwghRDohlIk+FwxPS7w6xjDPZlpp6TvCMLx08GXkHwwaWvoxdPB0sx4x9hhvGEasEzW+MNZo6Wc5HnIapPAa0MpMI1RxDLUohLHQesyM3HjTMTIJWQlgnGF00spNWBrGGWXhHYSxh9GGwRhassmPAKB1mb41lJnfeE8htIpLmJ2eRGMc5WAQgDDrOOcklAE4hh133NEOP/xwfz8yDwVeHlG64DFhIB6EOQMjEM7IdQiGfRQ8K2H+G+o+9TrUoag3hPUQPGyX68zABfwWtlscqHuUkTrMfCZ4dkIdJtFYgNctCvuinNhW1F/ugYLmzxGiPFMlKysrZ+zYsbl/Fg5uLsICaGngpqEl7qSTTvIbntY3RoPh5rvhhhv8xZAXAwcO9HHhu3XrlrtEiPIH90B4UfHJ/YGhhrEycuRIe/TRRz2OeMCAAX6PxA3loTV32IhHbfK8lba27zUJi6kpzW25OWJi9XKzGV+ZfT4KK9qsa3+zTbuaVY/Za7p2tdnCX83GDrfWq2ZYl47bWK9ePX0OBJ5bJJ5bGMsYlhg9obNpaKHksyy2Vob6h5AgPApDBhGBMcxveDY4HmLbMbBoYCJPFI4rHHdo3cdYCqFLUfidbZEfYRTOCQYeIUx4FRiC+Nhjj3WDKi9CucN9FLYVtkdZ2TdiKxiOUSgH3qAw6lXYHkKLe5DQMJYTUkV5iisO2D/HFsoZhTKH8xbt7xLKAsnHlQx5ebcSbsQIl4RLY0ArsiB/OG/Ui5tuusmwZ3j+YotwH4dBEajn1OEQepgM9YP6w7lGdIZtElp1xRVX+JQIPBOoS2yT/EWBOkAdpv5QvlR1iLrDtvkE1iH/c8895/cS9ZZhp3mPsP+86pEQ5QWez9yT2EeBYnlMeLjSIkcnRPqW4PqnlY6bicm8cLHzYM1PlAghhCh9eD4jrjBeMMKDcYaAICyF5zQGDcYX4bYM9R5NeFeSh7UN6ybnDQIuaohHwQCjFRjPCuEzfM/LKGMb7DOVwcVvlIH9JZchlIPhjkM5MADxqDBMMq3ntHzjsWBYWI6tuLBumMwxOSEAg0CLwrHkdVwBjF9axTlHtOCHsC9ReDi/TALK5Jd48Qg7JDwx9Kvid+pqfnWIe4N8gCDAC4YgoP8HXpbTTjvN62Fe9T0/uPbch9xHedUhhAfbB0QJQorwM8IlEUkcH2Fcxdm/EOUF1W4hhKggYPyEhPESUnR5OlOA7xhYGHmEPTGnFYYiXgC8DsnCJHk7IQVS/ZZXAgx9Or7T0kwYFwYdw9jnJ6IKQ6r9FSclg3CjvwENehjChBXhKQnXTuRPOEdEb/Tp08f7rxK5QZ+RMEpX9PwXlIAwdQaNQNgSZsgIXgy4EM1TFKLbLygBAh6vJ/2WENoMi01YGfdVNJ8QFQ0JEyGEEKUKgoRJBenTwuAoiAO8OLRIl0QYFBZaptnnkUceaUcddZT17t3bW6kpV1k06AgVxBtDazot4hjC9LUJRqgoHFx3PIUMlU29Q9wFD0hRwXvB/DjUIfrLMoknfbHiAo8J4gSvJvdRz549/XtZrcNClBYSJkIIIUoVDG1GYKQPIXM00IJ90EEHeYdfwqrSbVghgOggTAs3nc/pP0SZyqpBR1kJj+YcYQSfcMIJfs44V8U1rCsbXFsSAhjPAueQgQ/4uziwHqF/TE7KJ6IxTlFAfSU8kHl69ttvPx8FVX2NRGVAwkQIIUSpglcEww5jin4uxOdjLOK1wLhKt3GHAYlhV9z+AHFD/xjCkMK54pPBAsqymCqrcL7wnHAeEXyI1OJAHyzqD9cgEyF17B8xhMCnbsRx3whRFpAwEUIIIYQogyBGJEhEZULCRAghhBAVhmDMl3ejvqIchxBFQcJECCGEEEIIkXEkTIQQQgghhBAZR8JEiDTDnA0khn/MRAr73zB1RM46CpX7GWdin7mF4CP8nTJvuhP7XV+UyBchhBBCZJAqWVlZOWPHjs39M14GDhzow0l269Ytd4kQ5Y9g+IfviAHGn58yZYqNHDnSRowYYXvttZdP8NauXTvPFzcPP/ywPfP8SzZj4SrL3v0MszqNcn+JkbWrzGb/aPbta4k/qpptu5dZq20TX6uv/z0usteaLZlt9tXz1trmW5dO64cEZUhZRpIihRnNmcmbUX0YmSc6VKhivoUQQoiSgY20cuVKGzBgQO4SCRMhSkxBwoTZnFu2bOkTfzFpVyaYMGGCff/Dj7Z4ZbbltNvZrHqt3F9iZF222bL5ZnMmJ548ib+bb2FWfyOs/PW/xwUek1XLzWZNstYNa1iXzp0kTIQQQoiYkTARIg0UJEyGDBni4+Aza29xx9QvKTNnzrQ5c+fZqrUJo7zxJvF7KQBBsHrFenGCTV+3iVmteokvcQuTxLXKXmO2dI61bt7YunTpLGEihBBCxIyEiRBpoCBh8tBDD9muu+7q4VwYv5ng2WeftdffftdmLV5j2TsfY1a7AdZ17q8xQSjXvKlmP324ft9bdDfbqL1ZtbhDuRAlCXH0w9vWuvoyhXIJIYQQGUDCRIg0UJAweeSRR+yoo46yk046ybbeemvPFyeU6dZbb7UHHhlpU+attLUHXWVWr2nurzGCt+S3b8w+f9KM2bh3PNxs0x0TwqRGboaYWLvabOFvZh8/Yq3X/GpdOm6TECY9JUyEEEKIGEklTDQqlxBpBgOWUC6M25o1a8aeglFdFUOaRBgXCUEQa0rss0rikbOhHNUyVA4S50DCQgghhChLSJgIIYQQQgghMo6EiRBCCCGEECLjSJgIIYQQQgghMo6EiRBCCCGEECLjSJgIIYQQQgghMo6EiRBCCCGEECLjSJgIIYQQQgghMo6EiRBCCCGEECLjSJgIIYQQQgghMo6EiRBCCCGEECLjSJgIIYQQQgghMo6EiRBCCCGEECLjSJgIIYQQQgghMo6EiRBCCCGEECLjSJgIIYQQQgghMo6EiRBCCCGEECLjSJgIIYQQQgghMo6EiRBCCCGEECLjSJgIIYQQQgghMo6EiRBCCCGEECLjSJgIIYQQQgghMo6EiRBCCCGEECLjSJgIIYQQQgghMo6EiRAxkpOTE3vKE36LNeXuN5mUedOchBBCCFHmkDARIs0EgZCdnW3r1q3LSFpfBi9MIq37fwM9EwmF4t8zWI51uZ+ulkhCCCGEyDRVsrKycsaOHZv7Z7wMHDjQ+vXrZ926dctdIkT5I+qZ4BMhsGbNGpsyZYqNHDnSHnzwQdtmm21s1113tRYtWni+OKFM77zzjo39dJzNX77G1nU6wKxm3cTdn5shLtauMVv0m9kvXyb2ndh5m+3NGrcxq1YtN0NMJASirVhkNvUza117rXXp3NF69eplrVu3tsaNG3vaaKONrEGDBlavXj2rU6eO1ahRI1HMaolirz9pfIbvQgghhCg62EgrV660AQMG5C6RMBGixBQkTIYMGWLVq1d3UYKRmwl+/fVXmz1nrq1eu85qt9zcqlarEbswyUmcl+wVS231ojm+75oNN7JqdepblaoxO27xIq1ZbasW/G4bN2lgXbp0ljARQgghYkbCRIg0UBhhgmGLMKlbt67ni5sZM2bYnDlz3Jju2LGj1axZM/eX+CCUbdGiRS6SYJNNNnERUDVmYcL14UE4bdo0Fx2dO0uYCCGEEHEjYSJEGihImDzyyCN2+OGH2wknnGBbb72154sTynTHHXfY6NGj3Zh+4oknrFWrVrm/xsfSpUvtww8/tNtuu83FyNlnn219+vSJXSTxEPz555/tuuuus6+//to6dOhgPXv2lDARQgghYiSVMFHndyHSDAYsxjfekkwl9o9hTUr1e1ypdu3aG8pRq1atlHniSIiNqNAQQgghROaRMBEiJjCC8RTEnZKNb/7ORFmi5QhlyGQ5ouURQgghROaRMBFCCCGEEEJkHAkTIYQQQgghRMaRMBFCCCGEEEJknAKFyfvvv29XX321DRo0yJYtW+bL5s2bZ7fccotde+219sILL/gIRDBx4kQfceeqq66yzz77bMNIRUIIIYQQQgiRHwUKEzqIbrzxxvb222/7kF7AsKPMR7DVVlvZ+PHjbdy4cbZ48WJ7/vnnfVjNbbfd1u66664N+YUQQgghhBAiPwoUJjvttJMdeOCBVr9+/dwlZk8//bQdf/zxPgcJk6QxD8qkSZNs9erV1rt3b5+zge/ffvtt7hpCCCGEEEIIkTcFChPG+2e+gejQmsyY3L59e598jMnImFGaxN+NGjXyORPatGljU6dOzV1DCCGEEEIIIfKmWJ3fs7OzfXIyQLAw0zXL+B4ETPXq1X1ZMj/99JNdeOGFtueee9qYMWPcsyKEEEIIIYSo3BRLmDRv3txmz57tomLFihXWsGFD95ysWrXKli9f7nlmzpxprVq18u9RttxyS/vf//7nfVYOPfRQ964IIYQQQgghKjcFChNG4iJMC9Exa9YsFx70OXniiSfsm2++scmTJ3s/lI4dO3oHeJZNmDDBfv/9d9txxx1ztyKEEEIIIYQQeVOgMGE44DBU8HnnnWevvfaanXLKKS4+brzxRmvRooV3eG/WrJn17dvXXn31Vc//z3/+0+rWrZu7FSGEEEIIIYTImwKFydFHH+3DA3/00UcuOgi/at26tQ0dOtS9JqeffrrVrl3b8/bo0cMGDx5szzzzjHtVqlYtVqSYEEIIIYQQopIh5SCEEEIIIYTIOBImQgghhBBCiIwjYSKEEEIIIYTIOBImQgghhBBCiIwjYSKEEEIIIYTIOBImQgghhBBCiIwjYSKEEEIIIYTIOBImQgghhBBCiIwjYSKEEEIIIYTIOBImQgghhBBCiIwjYSKEqPRUqVIl95sQQgghMoWEiRAxkZOTk5GUF6nypjPlRaq86Uz5gUCJJiGEEELER5WsrKycsWPH5v4ZLwMHDrR+/fpZt27dcpcIUf6IGrx8rlu3ztasWWNTpkyxkSNH2ogRI2yfffaxQw891DbbbDPPFyeUafjw4fbKK6+4sX3nnXda8+bNc3+Nj+XLl9u4cePswQcftKpVq9pJJ51ku+22m9WoUSM3RzysXr3apk+fbnfffbf9/PPP1qFDB9t9992tdevW1rhxY0+cnwYNGljdunWtTp06XsZq1aptECsSLkIIIUTJwEZauXKlDRgwIHeJhIkQJSYvYTJt2jS/6YYOHWpNmza1Lbfc0ho1auT54oQyffvtty6UMKb79OnjxnbccE5mzZpl33zzjQuTjh07uhjge5xkZ2fbkiVL7IsvvvB9d+7c2Xr37m2tWrXaIEyaNWtm9evX9/MkYSKEEEKUPhImQqSBVMJk7dq1NnPmTHv55ZftiSeesIULF24wbDGMSWG96PrpghsfTwHgCciEUc0xcl4oC9SuXTt2b0mA8085Nt54YxdIO++8s39HOJIQkggTyhjKKWEihBBClB4SJkKkgaiw4BNhguG7dOlSmzx5sk2cONE9BcuWLbNVq1Z5SNOKFSvcg4ChHhUpIh7wlJDwjLRs2dI9N3xHtDVs2NCaNGli9erVc1FSq1Ytq169uoSJEEIIUYpImAiRBqKiJCpM8FAgQggbWrx4sSf+5jOIFPKQl3UkTOIhiAqERgjVQoTgKcFLQuI7yxElNWvWdGGCkJEwEUIIIUoHCRMh0kQQJVFxgkcE4UFCiOBB4QbkO4nfg9dEoiRegjAhRAvhgQBBkNDZnRS8JfxOQphExYiEiRBCCFEyJEyESBNBkEDwfiA4gvjgxiN8C5ESvvM7ifzymMRLCOVCcJAQJsFDEvqVhBCuqLdEwkQIIYQoHSRMhEgTQVQEgUIiRCv0IQlhW1EvSvgdURLWFfGAqEBs4DUhBXFCCl6UIEr4PZUwEUIIIUTxkTARIk0kCxNAcIT+I8F7EsQI34OXRN6S+AkiI3hOQlhXECNRQRIVJUGQhE8hhBBCFA8JEyHSRFRYJIuTkBAlQYiEFPJF1xfpJyowgvgIAqQwgiR8CiGEEKJ4SJgIkWaiQiP5O0Ik/B39LjJLEB4IkfB3VJQE8vouhBBCiKKTSpjEO+WyEBWcZOM1JAxdWuJDCuFCYdQnpcwmrkW4RsmiJK/vQgghhChdJEyESAOpjNlg8PKpVDZSNGyLFL1OIQWi34UQQghR+kiYCFHKRI3avFLUGFbKXEp1XcL35GsphBBCiPQiYSJEjMjILXtIfAghhBBlAwkTIdJI1OiNGr7Jy5Uyl/K7HkIIIYSIDwkTIWIklfGrlPkkhBBCiMwjYSKEEEIIIYTIOBImQgghhBBCiIwjYSJEGgiTKkZTdMZ3pbKdotdNCCGEEPEgYSJEKRM1ZqMGrlL5S9FrKIQQQoj0ImEiRCmSypgN35XKV4peu+j38LcQQgghSpcqWVlZOWPHjs39M14GDhxo/fr1s27duuUuEaJ8k2zERr9HU3S5yCypRukiRX8L3wPR70IIIYQoOiNHjrSVK1fagAEDcpdImAhRKkQFRhAc2dnZtmjRIps9e7YtX778D30X+B7yiszRsGFDa9y4sX9Wq1bNE6Ij1czwkPwphBBCiOIhYSJEmggCIwgP0tKlS+2zzz6z119/3WbNmvWH30ghfxxE95Npo5qylBXDvkOHDrbDDjtY165drU6dOla9enUXJEGkFCRQhBBCCFE8JEyESBNRoUHCI/L777/b008/bQ888ICLlLp167rhGxUJccH+8dpAs2bN3OiOG4571apVXhaoX7++1a5d27/HCeXAm7V48WLbaqutbM8997TDDjvMvSY1atTYkLhWyeIEJE6EEEKIkiNhIkSaCGKDz2D4/vLLL/bII4/Y0KFDbccdd7Q99tjDWrdu7fnihPK8+OKL9tFHH7kxfeGFF1qTJk1yf40PHj7ff/+9Pffcc27oH3jggbbddtu5AIiTNWvWuGgcPXq0l6l37952zDHH+DmpVauWJwRTECfBi8K5i4oSCRMhKhfhOQ/pvv+j+wromSMqGhImQqSJ8BLhE28JwmT69On26KOP2vDhw61///520kkn2dZbb+354oQy3Xbbbfbkk0/6iw2DvFWrVrm/xgeekg8++MBuvvlmN/TPOecc22uvvVwIxAkPwcmTJ9s111xjP//8s+26667uMWnevLmHc5Hw5lAuxEnNmjU39D0JhkH0uxCicsCzdPXq1Ru8qemEfZF4l0Dw3gpRkUglTFTLhSglwoskfEeghE7uvFSCkZuJFDWsM1mO4H0gUQ6M/1T50p3YN+eElz4PRcK6Qrgbf2N8rF27dsN1DNdViPnz59uwYcPsjjvusFtvvdXuuusu90jSj6y4/PTTT76N22+/3bdJ4oVNnQyGqcgsy5Yt84aMO++80z2/ITQ2XfAc+uGHH+zZZ5+1t956yxYsWLDhfSJERUbCRIgSkmy0RsVJlCAM4k7JhGXJ+dKdokT/Ts6X7hQFow8RgtGBoUEfmCBKosJSiAAi9plnnrEPP/zQDVQEycKFC73OFBfqHdsgxBBj9O2337aXXnrJVqxYoTqYYXiO80zgWiMex48fb0uWLMn9NX2wX55JEyZMsJdfftk+//zzDf3zhKjISJgIUQqkEichibILRh99TmidDIm/ESykIE50HUUAETFp0iQfzKJTp07Wp08f7yvVoEGD3Bzroc5QdxAsGLbUq7zq0kYbbWRdunSxvffe27bffntfhkAJXjuRWebOnetClHDYLbfc0gcQiQ7cwTXiecE1LuhaFxa8uoSXsp+vv/7ahSrhwaoToqIjYSJEGuDFoZdH2QfjIQiTYFDw4idJkIi8wPO22Wab2S677OKjuiEqGNUtgJGKt2PmzJne0v7ll19u8K7QCp5ct1q0aOHiBpHDNtu0aZP7i8gkXCeeBWPGjHFh0qhRIzv//PP92of+Hlxrrulvv/1m3333nXs4EK6ImeDxKs5zBGHCYClHH32098PFU/P888+7V03PJlGRkTARIo3o5VG24fqElk4MEL6TWB6SKBtwLTDIuFYYgqFPEH9Hr1cwJhGaQWxyTVmOt4N1EKJhGb9H87KM30JePqN1ojAwqeqoUaPszDPPtDPOOMP++c9/eufOs88+2x577DHvL1DYbYnMQT2hX8lrr73mnovTTz/dPWPRkQTnzJnjnpSLL77YB/S44IIL7OSTT/ZrzqiM8+bNK/a1ph8cImjffff1+ZZeeOEFmzhxogseISoqEiZCpAkZHuWHYHSGJMoWXBPEAa3ShLW89957biy+8847bqhh6CNGyIeYmDZtmn3xxRfeyoynAs8Fady4cd5/g99o0aa/CL+HvLR4L1q0yNf/9NNPPS/7I19R6gUeFVq8GXXub3/7m/3rX/+yAw44wAXLm2++6ROvIoRU18ouXBv6knzyyScuTrfYYgufiBVPSbSvGoKF8C5GXuQ6I1AYfhxB88YbbxijniJ2iwvihO1nZWW5IKGOch8IUVGRMBFCiARRI1EGY9kCUcIABbRAk1555RUfqYhO6IyQhYBAaJAPYUFH4aeeesqH6qY1+9VXX/V1GOmKVmeMTYQKrd1shyG0H3roId826z7xxBPu8WA9/i6qMKFVHSN2v/328/As5sqh1ZuQLcQJo3AhTETZBq8cYXjMcdS+fXvvW5IMfY0YBr579+6eevToYQcddJDXAUL3COsqrjAJA3awX8QJ9Wfq1Kne10SIioqEiRCi0hOMTj4lSsomXBcMvMaNG7sh2LlzZ4/BpwUZ0fHtt9966A2eiqZNm7oxN2PGDHv//fddjOAVoY8ABh59ODAoae3G2KtXr563cDM0KyMg0SKNMcp+mPOHuW2ireQFwfa23XZb69Chg22yySZeHgxbOrmzHUQWx6K6Vnbh+iBIqV9cw80339xDuJLrAfWN67rxxht7/UKQbLrppj4XEt6V0rjGDKvOPqiPCGom7xWioiJhIoQQKZDRWHbAwMPQO+WUUzx2/7TTTvM4fv7eaaed3FvCKFaE3DCSEV4KJjRlhCtavREsO+64o/3jH//wfh8HH3ywh+YgbAjBOfLII11EkBePCxP/kpf9EILFNpNDeIoCYWYYlHhLEC3t2rVzg7a42xPph7pEiCBeNeoJAjWv64WIoX8SQz7jDUPgUpcQM7vtttuGjvLFhf0ijhHVbJf6HkIXhahoFHi3EMt71VVX2ZVXXumtPPD000/bJZdcYtdee609+OCD/sCFb775xm655Ra74oorPD5XN40QQoiSgmFGrD1GPcYf4VWEWdHH5Ndff/WwKOLveeeQF0OQ/IAoQYTsvvvuG4Z5RRTwO/nCLN6sy+SbCBhECmIkTMZZEgGBwYpxi9cGQxfPCR2Z2bYouyBM6GPC9cMTgjBOVQ8QCFxX+g4NHjzY7r77bk94ThDNePZKKkyAeogXj/1R1wlbFKIiUuDdwgMbN+a7777rD3hgODxuUB70PGC5AWllYig7VD3DHjI7qkaOEEIIUVIQDXRqR5AgRjACCdGiYzEx97ybQkMY76aoAck7idZu3mO8z8Lv0Xx8sj7hXdtss42/04KHJJqvKLA9jEca7mioo9yEkO26664e6hPKIsomXL/QNyS/OkAe6iaDKDCoAZ+IZwQv2yhq/6RUhH2HOsP2SrpNIcoqBQoTFD+ubB7UAW4OWpTo0EfrEi0JYTKoXr162aGHHurfifkVQgghSgKt13T4vffee70/CUYZITJ0LmcOETwpqQxHxAV9UmjxJk4/L+MyQB4EDJ8lIRiNhN188MEH9uijj/oy3qU9e/Yscp8VET8IC+oBdQjhm9dgBeTDu3bIIYd4JMl5553n3wnpoq4iSKPeDepBCP2i8ZZt83t+QiOsQ17Kg7cNO0yIikiBwgS3d7LLmZvjrrvusqOOOspGjBjhf+Oq5uXACwCXY9u2bb0lSwghhCgJhMowchahNYx8xNwgjHLFyFe8o2ixTmXYYfwXJRyLPMEYLQmUBUP24YcfdlEyZcoUN1qZ2Z3+CuxHwqRsg3gkdIr6w+haec1HQl2hDtJviIZa+jcxCSPfWY+R45LDrhCsX331lY8oR4gf4YjBO5MXiHMGc8DOolwIIiEqIsV6+tIpkOEZ6XvCzfXcc89tuPHCwxY1n+pG+/HHH/2mJQyMvioaMlEIIUR+0LpMh1+MM0QGXnoawwgfZv4R3iP5tTgXliAYSioaKBvDFN93331edhrxWrZs6cdASzoGJg16BRmjInNgwzCbPxMc0siKuMyrjlFfECisg5DBS8coXQgWwtyj6/Gd2dsZuvrWW2/1frnUE6JM8gL7ClFOP15GkSMUsDTqqRBlkWIJE1p8CO2iQyFudG5YbkReGqHlirha4nqT2WqrrfxGpFP94Ycf/idvjBBCCBGF9w1hwoS+0BDGJHa33XabG2p0aOddQwsyhj6TIw4ZMsRDahAuTJCI5+Kss87yzslhDggEAyLh6quv9gFbCLnhNzwbNJ4xjwmemuTW7oJguww3TBgPAoQ+B5R50KBBdumll3rZiTTAOCWvKJtg9FPv6EfL9SRcPSoy+AzfqSMk6h92EB4Q6hbLOnXq9AcPHNulLxMjdmH/MPQvQxKnEqlhH/RToV6Tl8ETWFeIikqBwgSVzgOU1h1uTlyQPGj5zs00efJkFygdO3b0vHhQGC8eFyauTCGEEKIkEL6yyy67eL9GWqIRDLROM1fIPvvsY3vuuaf3eyQMCwMPgx+DjnkfmDGb0GIMRjwrUQMwGJIYiDSysR2MSNYP2ygOtJTT0n7ggQd6Xxj2z7KQ2B/7UYt32QbPHP1sERgIDWyfIBYgiAa8dghb+hMxYSeTe2IDcd2pU9TV6HpB8NDIi6DOrx5QRxE6EydO9O0gTPC+CVFRqZJ4aOcwskle4I4mthchglvz73//u488gSDhJUAr1tFHH+0vjo8++shnzsWNzfjyxABHWwqSGThwoI8X361bt9wlQpQ/kl9UwTDCk4i7nhhz7pEBAwa48RQ3lOfmm2/22ax5ATLGfn5j8qcLGi7wlN50003+gqVFG6OypB2Niwqt7hgZtGAzqzPGKx2SMRLw/JKYzAzjgecaseaED1HmcM74jPv8VWbC/TV//nyP9cczT0gLfRr5jTAYDDyuFUYkQ9vTmBaF60Vdw9jkeob7FMMyOYyGvLRqc/2TBQQzefPeOv744/0dh/CIErZLfeczFZSD+kWdir4jORaMXPoejBs3zsaMGeMeIUUWZAauHyNsXX755S4OaIBl6gTqGdeOa81zHo8cooV6hfilMZdn/R577GF9+/Z12ynANab+Eh7GdhHZiJfLLrvsT89Ctk89wuP24osvel3A88czK/o8EqK8go3Esxr7KFCgx4SJpzBoGJqRG4OJqZi/5LHHHvM5TJjkioc30CnxnnvucTGz//775ytKhBBCiKLADOqEAzNxIuI6iAcEShARGIeIS1qVowlPC8tDp2GMOgx+RlRKlRfhkNc7DOOSBjhmiydygBCbMDx+2C5GZPJ2Qwqdl4NhiThiG7SK0+iHABOZh2vEdaSPEN6P119/3efPwRuCAAbqHd4PpklgAkQaWi+88EK3k7CfkkUJ15bG3dApHlFy2GGHbaiXAUQJESoff/yxN+gA4e944mRbiYqMarcQQogyDQZ8aaaibjMKBiSiiBbv1157zYYPH+7hO3Rsh1Tr55eA/gNsg8a+l156yQ1fBIxaxTNLuEbMPUNYHp9EheAlIQQQgYDnjmGrGRTo3HPPtdNOO81HX0PwIpKj1xmxwbWmoRdhi+A59thj3buSLDaC5yVMVo3nhckaCQWMblOIioaEiRBCCFFIaAEncqBHjx4e2sO8JyUNtyI0iG3QKs82GXIWYzcYoSKz4BWhrwkiInkCTsQjnju8dnjkqB/8HfWIBViH+kJEyYknnmh77bWXDzOc13VGkFAn6FtFyCCetrBfISoqEiZCCCFEIcEAPeKII6x///4egsOkicynwvLigneEbdAqzwTF9Ek76KCD3MDF8BWZI4gPwvsYgOG4445zMVEcIcq28KQQ9hU6v+clShA27BNRglBt06aNe2CEqOhImAghhBCFBIOU4Vrp60InZPoVBAOzuNAhn22wvZAwflO1uovMwLXgOiEq8IwUVTByHUlsh7qSHOaVDPkQu9QDQgepd6oLojIgYSKEEEIIUQbJT7wIURGRMBFCCCGEKGMEUSJxIioTEiZCCCGEEEKIjCNhIkRMMFRkJhIju0Th71T54kgBypCpcoR9k4QQQghRdihw5vd0opnfRUUgauTyifEbnfl9xIgR1qtXLx8ikqEf44YyjRo1yudJIBzguuuu86FJ44YJ6CZMmGCPP/64D3nJ5GM777xz7CPNMD8AszgzZwST2jGHANdHM78LIYQQ8ZFq5ncJEyFKSEHCZMiQIW7EIgZKMnJPcaFMs2fP3jCbdPv27TeMCBMnzHLMTMZMGsa+mZiMUWfiLgfXh8nRfvvtNx9lh0nLJEzKB9Rl7i1SAJHLCEbleQSrtWvX+v3BZ4DjqlWrlupaGSE85zGiGCEr+jxIB+FdQp1gP6F+qy6IioSEiRBpILywwvdkYTJ06FCfGIshRksy10FxoUzff/+9zzjMSw0jHGM77hcc5wSBRFnYN0OiMgxmUYfdLCm86BFIX3/9tZejU6dOEiblBIx36s93333n559rwjVi6F4mrovb+1ZaIJJnzJjhnxwjzxDqYc+ePV2cIFJEZgjPdjytixYtso8//tg9vTwj0lnfeF7SmMRzm/0wLDV1XXVBVCQkTIRIAwUJk+HDh/ss0czknIlQLnjyySft7bffdmPummuuyVgo11dffeVhZbxcmaSO2ZTjNiZDKBfXBWOQmZwlTMoHeLqoP2PGjPHrxSzbTELH/YXnCyM+Srgvo5TF64bQ4t749ttvbcmSJTZr1iyvh9yrNGbQWi4yA3UIsTh58mT74osvPCT2b3/7mzdo8GxIF8uXL7cff/zRXnnlFX+f7Lvvvl7Hwz71/BEVAQkTIdJAQcLk0Ucf9ZmcufHozxA3lOfmm2+2J554wl9mzz77rHsq4n6xYXC99957dtNNN7mRf95559k+++zzJ2My3SCQfvrpJxs0aJB9+eWX7rmhZVrCpOzDtfvf//5njz32mN9TiEpmTd9iiy38+iUb8MGoBMRwWb1uM2fOdG8Jn9TN1157zebNm+cCjEaE4swyLkoHnp/Tp0+3559/3l566SVvTDnmmGPcS5fOZxfGGt6S0aNH2yeffOLvjhNOOMG23XZbfx7p+SMqAqmEiXyCQgghyg0YZIhGwmn69Onj3q42bdq4cAwQckMLNwb+008/bU899ZS9/vrr9sMPP7hAxtgMjQllAbw+O+64ow+Qgfdn0003zf1FZBLqCR7WV1991T7//HNvqMBbQlhVEIt48fDAIh5efvllFzDUO7xgc+fOLXZdQ/QQ/nvIIYdYx44dfeAQvCeEw5a1+itEaSJhIoQQolBgEOENJMxk2bJlbpSxrCCC54KWMbwe9PNJZVixjMTv5CWlyos4wQNCQpAEb0hg6tSp9s4777goefHFF+2ZZ56xRx55xD0QEydO9PLHBeeHY+c48jpXycdCEpkHUcJgHR999JHXwQMPPNA9dIiSUN+oS4Tgvfnmm+5RQZgw8iDpww8/tAULFqSs64UBDyDiZLfddvMw4Pfff99+/vlnvy+EqKjo6SeEECJPMKowqDGGaK3F6A8d0AlXnDNnjhtwwQDHUKOPBKFJfC5cuNAHG+A7MfMkOvWSF+8Fhl8IY1q8eLHn5W+8G3g9WJ9tF8W4o6Wa/kN4IjDq8EYgiGj5fvfdd/33dBPOG8dIizqJcxNCy0TZhuuH+KbvD3UXQYJ3DrEQFY4ITvLhTaHfCXWN0f4QKc8995zfJ3kJ0vxA+JAIJSV8q2vXrl6HCPVD7AhRUZEwEUIIkS8YXuPGjbMLL7zQzjjjDDv//PPt3HPPtbPPPtuuvvpqFyh4UjD+adX95z//6XH4p59+ug0ePNg9FnTkPu200+zyyy/3DuxsEw/Gqaee6v1FTjzxRB+QgHCYSy+91LfN/uhsXFQPB0bcX//6Vw+7Yb6ck046yQ466CAv46effurCJw7wKNGni3N2zjnn2AcffCCjshxBSCBeDwZZIJyKELuoZw4YnADBctRRR1n//v09/eMf//DliGvWL64YZV+IIEIVqdOM7vjNN9+4OBGioiJhIoQQIl8IMWJQgN69e7uBjRi56KKLfOASDH3CVxAnxMV36dLFBQmj0GGQMRocIVUYV//617980AP6hjCnD4MOsD1CZBALdPRle9ttt50vJy+djYvayZiyYkQyhHDTpk19zhw6x9OSTQs3KQ7wABHmg7iiDwLeIgmT8gEeE7xdDJDRrl07HyQjzCUShY7o1DE8KgxUQNpss828HxT3TXG8Jclwr7B97gu8JoRzCVFRkTARQgiRL8TUY+gjIHbffXfbddddXaQgLDD+GbWI8CwMMUY022GHHXwUIVp7Mc4JRWEEtr322svFDKNoYdCxLi3BjK5Vt25dNwQJv2K0xj333NO6d+/ugqYkw+ViYBIeRqgYXhq2R8tzHGCc7rHHHu5dwjO0yy67WPPmzXN/FWUZvF2EESIkGcUQcZssSqIgQBC85Ke/CWGPiAnqO/dFSWC/iBPuQepyCIUsSnijEOUFCRMhhBD5gmFFDD0GPeKBUBJi7+lvQt8TDH76mSBEEBx4OPjEeOL79ttv7yMZEd7CdjCyQl6+88k+aG0mHy3UeD3wcLA+efMzCpOJ5sXAJKSGOSjYFnNBxCUO6B9An4Njjz3W5+1BgBEWJMo+1BvqOp8ITOpiqjpIHScfoY6M/sYgCyQEOiPHEQJG/S0J7BdxjmcG8UPIZHHDw4Qo60iYCCGEyBeMIFqPMe4JzQqjDzHyFZ3M6buRDMYUnhY8IHhIECV5QcsvwoQW4fbt2/9h1KPiwPZIGHHMBUGZGW4VIxGvRaoJRsM60VQSQvlpaSe8DXHGOSipkSrigbqDKKEeUB/z8tqFe4O+JPSReuihh+yNN95wbwkiO9UkjMn1LKT8oD4h4vlknxImoqKiJ6QQQog8wWBiFCvCU6666iqfSwHvCJ4AjHwMsLyMNsKzMMxpbU4Vnx8FYYIng/wlNd4pM4YlsfjDhg1zQ5E+AieffLJ7LVIJH8QVnh86PHN8BRmKBRHWjw6vjDFZ0u2KeAjePOoiXkHqRCqot3j3CNk788wzvW8Uc49wvwwdOtTnz0kWEaF+UicK6/1gHcpBeYKHUYiKiISJEEKIPMEgogM3o20RnnLWWWe58bX33nv7HAsY+HkZ2xhPiIDCCg3ES14ipyhg7NEZf8iQIT4xHn1cGKGLfi+IpVSQH08Qs8p//fXX3jempGB8Tpo0yedSeeGFF7wvDq3wouyDp4PQRT4Z0hpxnqqeU8cR3njF9t13Xx+d69///reLdtZ78sknvR4E2AZClWGE8ToyfDX1Ir9O8qxDvfnll1+8/hLShTgRoiIiYSKEECJPMIpoqQ1D9tJyTEw9Bjf9TOiIG4wqPslHx9958+b5dzrr8jdzQfB31ABjOxhvbIPtkjcYgYgL8uYlevKD0a8YdphEZ3eECQKJEY0w7vCKJHsvOBZCcR544AEfxphtlBRaxBmR67///a/dc889PuIY50WUfRDICA5CERkxjpSqPiLMEd7kpw8TXhY8KKxHnaMzfPI61AFmh6dO4NFDEOfnNeE37hU8gIQh0hmf/ebngRSivCJhIoQQIk8wfjCGMLRo2Q1eBT4xlEKrMvlo1aWjOcP+EsqCFwJvC/OYsAxjP9p6zFCsI0eO9FArjDXmaGDbeBfYdl7hMwWByGAbCBHKgxF455132g033GA333yzffbZZy4aogYjxiVlo4z0pSmNuU7YPgYl5WBUMIRZYcJ2ROahPiNMCP2jLlCXEejJcI2pN4TshUTdQpCwDe6bVAKCdagX48eP96Gko4I9wLZJiHQmMqUMCG36YglRUZEwEUIIkScY7HTiZV6SHj16uFjA6GKoX4YAJnSFYYMxwAADi0Tfk6ysLO+LgnDBYEs2vjDSQ17CYAiHwYjDaEtlqBUWQl2YhZvJFRm6mH4rhNyElMpQxABliGJauSlXaQgIwm4YVvmCCy7w/gfMyRLXUMWi5DBYAXUbTx7hfYjcqJgFfkMII3YZYOGjjz6yESNGuCAn9JGJPZPDE9kuQ2Ez3wnbYxvJ2w2wnAEmEDAIf7x/jFonREVFwkQIIUS+YEwTM88M5syoftxxx7nRf+ihh9phhx3moqJt27Zu1CNi+I0+HczeTp+UAQMGeF5G3IoaaUwYd/zxx3te5vogL9tnvhSMtuLG0e+2224++zwTOiIKmKmexHdm5WbuFEQDAgXDj0S5KD/D+TKCFsdTUtgec75wfJwDjEpa4UX5gGGCqfeIVryFDz/88IbO6tQZxDMhivQVIVyPviV33HGHh+8hck888UTvi4UYjkJdQ5wg2PGAIN5T9cNiH/R1wqOC4AnDD+c3wp0Q5R0JEyGEEPmCAU/sPCEkzAOCocYIWsxJwicJQx/jCmMuDPsbEsMFY+hjlEe9FQgeBAi/R/OGWdrzMtYIiaL1mlAwWrLpwxL1cITtRssQts1yDDuMRbaFJ+e9997z0C+2x+hKGJV07C8NECccC4IHoZXKW0MfG+aGoaP+xIkT/XhEZuE6ISDwvh1wwAFeJxEIhAUSVoUoof5wDyA4ERd4/BAPjMp1wgkneF1i/SCAWYdri8h47rnnvD4wYSkTjyaLF/IigggrxBtDWfBQ4qlMzitERULCRAghRJ5gVIWEQYSBREI0RFNyvlQp5Avwd6p8pOj2AnxHALF/QmU++OADN/LoAxDtu5LfdknRciBoCMEhfh9R1b9/fw//KmnIVbT87C/sM+w3CoYuAot+OYTsMC8G+4+WU8QP5576wuzthCUSmoWgoG8I9Y3rwzI8fHgH8foRskcdYgS45GuI2GBgB/pSUd+oZ3gbEfvki8L26XeFMKE+IHzw5FFHQfVCVFQkTIQQQpQLMN7wfGCkISgYwQsjMb8Y/YLA8MTgI+zm4osvdm8JxibL4wIPEOKEySA5FrxLGMN4W2SAZg7OPYn60KdPHw/HYxAD+ljREZ7fEMl4xPCMMEgEYgTvGNcuWWzwN8KacKxTTjnF/v73v/t1RmwkX2f6cjGCHPsi5LFfv34+GldU6AhREZEwEUIIUS4g9AUD7f7777f77rvP7rrrLrvyyiu9TwlDtRaVYFjSwZm+BMT7pzIo0w3CCEOVkcPuvfdeP74rrrhiQ8iZyBzUEeoD4Yl0ZGcUOcKvgueiqNBxnZAs6mwYUph9JIsNQsTon4RYpu8Vfbc0d4moDEiYCCGEKBdgvGGoIyYw0vgksSzZsCsMwehkfT5DKs62SkIoQziucGyZKItIDdeBa4JY5PpwbYpCqGvhWofvpLyuMfvDw0Iqbh0XorwhYSKEEEIIkQ+IgiAu4hAI0f3FtU8hygISJkIIIYQQQoiMI2EihBBCCCGEyDgSJkIIIYQQQoiMI2EihBBCCCGEyDgSJkLERJj5N+6UPL8Df2eiLGG/ySlV3nQm9hnOg8gs4foz+zpzeTCHB4nvq1at+sP1qsgwmR7zYixbtmzDOWDW78py/KVJqFOcT+oV38sjHAdz9XAfMKeJ6oKoLEiYCJFmeJlgePBy4SWTicT+ebGRUv0eVwqGAonzgfGQKl+6k170ZQeML2bDZubzzz77zD7//HP/zsSJXKvKAJPoTZ482Y89pIkTJ/r9ojpaNDhf1JtJkyb5pJU8Y8oj3BcI1KlTp9r06dMrzb0gRJWsrKycsWPH5v4ZLwMHDvTJspj5VIjyCi/CYDzwicGLQTFlyhSfjGvYsGE+IzAzVjMjcCbAyOEFx5CTzGxdp06d3F/iA3E0a9YsLwvlYPbjMJNxnHB9lixZYl9++aVfr06dOlmvXr2sdevW1rhxY0/M9MwEakxyxrli3oLoPAJ8avjOksP551q89dZbNnz4cDe+uA5MPLfzzjv7RHbMqF3Rz/UXX3xhn376qX8uXrzYZs+e7XXwjjvu8PpI/ROFA5H7zTff2P/+9z878sgj/d7eYostcn8tPyBKJkyYYE899ZTX/8MPP9x22GEHfyYJUVHARqLxYMCAAblLJEyEKDEFCZPB9w+xxSvWWI36Da1q9aLPTl1ycmz14vm2ZsUS/6tu8zZWpVp1/x4nOTnrLHvlclu1ZIFhZtZs0MSq166beArF7LhNlGPd2jW2atFca9G0sXXp0lnCJENwvyxatMjGjBlj99xzj3Xt2tWOOeYYq1+/vjVv3txatmzpM7pX9HM9b948b93n8/vvv7cXXnjBfvvtNz8vNGowO7jIH+oSxvzrr7/uxjyTEp5wwgluzDMpYnkDr+7MmTPtmWeeceHOzPOnnnqqN+jwPNLzR1QEJEyESAMFCpMhw2xuzY3NWm6TUAWNPV/s/PKl2ZzJ6793PiChChKCIG6y15gtnGk2I1EWpEmb7cyatkl8rbb+97hYl222YpHZ1M+sdZ211kUek4wRFSb333+/9e3b184///yUs55zXxHe9fvvv7tHgVAXDE4MNq4dxnvc3rfSIjxDOEa8JnhZ+ZQwKTycv08++cSeffZZe++99+zSSy+1XXbZxe/l5HpB3aEfE89o7nfqUbrFC+XDa0zYHoJj4cKF/jciHK9gu3bt/iA4yI84IazxkUce8dC0Aw880Pr3728tWrTQpIuiQiBhIkQaCEZF+P4nYfLACJu7SXezTvsnDPG2ni9WctaZjRttNultLGqzg681q9d0/fc4Wb08IUq+Mvt8lCXeqmZd+5tt2tWsesxG19rVCYH0q9nY4dZ61Qzr0nGbhDDpWemESaizmSYIkyFDhvj7AGGS3CKMIUlncFqP8SgQc8/LjGu10047WZ8+fdyww4AP6+V3fHFcu+Lsn3XGjx/vwmTcuHESJoWEZy5G/q233urnD6MdoYvXhPsWwvXA2EfY8nx+7bXX3EuHF2Kbbbbx39MFZSRMj/AsBBQCmzrMc4Znz0EHHWSbbLKJewiDkKLM1Pvnn3/ennzySb8PLrnkEvcCReu6EOWVVMKkfDYvCSGEKBEYPfTpwFii7w+hQ8EjwTIMuAAvDlp6yYdRx++0OCMqwrosQ5CTlzh/lvNJHxKMq9BSHLaPoVZYMDoJc8I4++GHH2zzzTe3zTbbzH788Ue77bbb7PHHH/ftYrgFOD7+poyUg0/+DgZqHLAvzhP7J3FuinLconCEsKc333zTjfXjjz/+D6IEOO/UQ4TtQw89ZJdddpn997//tbffftt++eWX3Fzpg/3jJfnuu+98oAMaPehziJCiDtMnhnJE6yfHwnEgvukbiNeE9bmXhKioSJgIIUQlBFFCh+u7777bTj75ZDvkkEO81faII46wG264wY08BAEGFaNEYTydcsopdtJJJ9ktt9xio0aNshtvvNH+8pe/uKeDVn6EAh54WnX/+te/2hlnnGF33XWX573qqqt827SMEZpCf4DCQuswrckPPvigDR061L3tF198sV1++eU+qAThLhicGP4Byo1gIi/9Vq655hpvJY9zdCP2hZiirwPn6Z133nHjVJQuiN8PPvjAr/+WW25pPXv2/FP4FsL0/fff9zpLXdl1113dM0rYYBwgktq0aeP1n3uJenn11VfbhRdeaPvss4+HoCGuouI60LZtW8vKyvL18aRR34WoqEiYCCFEJYSWWYwy+mgwetGVV15pV1xxhRtA9G94+umnbf78+Z6PUY32228/T/zNiGYfffSRewMOPvhgO+uss9wYZJQ1DENGECJEF2GD+KFDcpMmTVys0IGXfdSuXTu3JIUDw47QLWLyCfUixI5+AWyHMiV7IviblmXEEmnatGnuVYlTmGAwE3ZGKzf7p0VcwqT0wRPy7bff+oAJ1GfCo1JBfSfsD3GNCKfuxBkORR1GZLNfPikP36nTqfpVBajv1P2tt97aB0lAcEPUuyJERUHCRAghKiEYRoREIRL22GMP/yQxRC/GEgY14UcY+PRz2HbbbX1oZX7DwGZ9xMjee+9t++67rxtNGIR0zCUGfquttnLDiW3Qubd79+6ej3UQLxhbhQVjjYRhh/HGdjFGCRejlRzRQxmjrd/kw5ijAzT73G677bxslDsuEE+cB84pQo3znakhwysyhHIRhkgdwAtCPUk28AmJ6tChgwsT+pUw4hv54iLUYe4nykv9RfjPmDHDPSXcM9SNZE8PsB73HR4TGgMQ3MlCXIiKgoSJEEJUQjDKmC+EvhoY9rTu038EjwKeDgx+ZiJHBNAhF+8E+TDsMZTwovTo0cNDqQg1QQQgNjCgyIdIYV2WETZDnDwd1Nkn20plgBVEaCGmfBh0eG0oLx2XCfWKip1wfEcffbSdeeaZ7sWhNZ3yxQX9CBBF7J8wOIxPzpMoXejbhEjl3OZ1foNhT71FKEdFbJwgRphI9OWXX/bwRzrgE9Z44okneif4ZEEFLKNuU58RNeTnHhCiIiJhIoQQlRBi2Wllpi8JI2LR7+O5557zPiIYeXl1FMegw8DD64ERmJeBhzGFiCG8C+GAWGFZKsOrKGCYMVkoc1XQ96VLly7eCk5reVTssB+MUX5HHPCJB6M4gqg4sH/2hWjDW4SIozW/KJ4iUTiopwhp6mJZP794OwiFZEjjl156yUUKYiW5s34y/Eb95VgRYqn6oghRESjwCU2LGS8s4o/prEWsMODKv/76671DI4o/qHc6Zv3nP//xES+4+YQQQpQdMGxIjIz1yiuv+FCkdAqnFRnvB6FHCI68DHgMJERAfnkCGFLkxXOQn9FVGCgz7xlG5WIYXQQUoTn0FUD4JIdokZ9wFzwqhL9guPI3y1OBsUdLNKN/sU5e+QoL65PYLmE7lIHyl3S74s9QD6ljXGNSacG1os5gB3H9uJYlvX4I9B133NFDIBk9jDmUELE0Dvz00095lh8hQjkQXwjuTHl8hEg3BQoTbkReWL179/Y42ZtuusmHuuPFwM3EiwHF/80333hLwOjRo701jRjOf//733oICyFEGYPnMsKEVls6Y/NsZ8QsOrcT2pVfuBPPfVqlMYz4nh8YjAgGPslbUP68oLwk3j2MbPXhhx9u6JBP35EwO3x0++THkOP99MYbb3ijGcecV0szjW3vvvuuN7QxLCt5SwpChDLjlWJYWjxUpWk4i/VQFxHA1OXSHFwA+4fwRu4T6gZ2TklBmGAf0a+LyRIZDQ+hQp2mrqQqP3U5lIV7k74oEiaiolKgMCFOGDc5CYXPC4ah9ng5MAQjrVWMKIF35KuvvvIXBCKGm42XwsSJE3O3JIQQoqxASBSjVGHME7vOsxvjhxGkkoctZTnPczwKrEeiBZm/o54IPkMMfGhhDn/Th4Xv5CsqbJf9vPDCC/bqq6+68cY7CQ8PMBQs5YuWme8cH8Mh4/F/4IEHfGSsvEblQsDceeed3vhGSBvhYiWFMiN02P91113nI5RpDorSB/FLHyMGWsB4T+WZitZNRCf1kToSPGos43pF6xB1CruG4X2JEGH+E+o02youCAo8iWHGd0IiCTOkXJSdupwMx4LXjfqLp5KQwJIIfSHKMgUKE9zvKHRuAOKOUfS4+nng05EwDNfIw5Zl3GjEStKiRkdHQgSi/Pzzzx4S1rdvX3/J8KAQQggRLzy3ESQ8kx9++GG77777fK4PjGeMs+A1wQhDrDzxxBM+jwiNTTREjRgxwsNPaKTCqAKMPOZYGDx4sM/fgVHHLNfMPcJM3PyGYVdUMBzpT4K4oGUZ7wbfL7roIh9++IILLvBjiBr9GHMYn4TH0JiG0CCWP693DvkxTMnPMTHEcEnBmGRoV4ay5Twj+DB2RelCGBdeCGwUQv2wRZKhDlGPqcPM00MdpT5Q35l9+vbbb/frznC8Ae4D1mN71D/6hHANi2O3UL+iKUAdCfWW4Y5Tdd7nvkK0cP9gVyFmhKioFChMAtw8jCpCqw/igxsrxBcjWvibF1hUxSNqklsWGC5x0KBBPkb+gQceqI6AQgiRAWh1Pffcc93zDRhfDAl8zjnn+KRvzG2CcOE5Hp7rDLfLkL+EodCpPYRzhWd+gOc6oVbkJYa+pB3fedcQvsLIWoxehEeeEC76ljBMMfuirNH3CWWjEY13FsKICRkJmclrjguG8+Vc0JrNuuH9VhJ4V9KPgJb2m2++2SeipDO8KF24pgwwQJ1GWNJvKur5gOAxwduGIMGrsv/++3sdQoTTtyjZ64ZIIAKEUeUQDayfLCwKC/vHo4NIJVQQoUx42PDhw130c68wHDf7SYYGYSaHRNRThyVMREWmWps2bQbR4pQfiJLzzjvPx4MnL61KDHXHbKW8aGhJ4GHOUHd4SDp37uwPClokmHyL5QHy88DnZUfMLX1U6JMiREUhiHRegMQkj/tigi1vmDBGWiReJnUa5eaKk8RLdOa3ZvOmcgOadehjVrPO+u9xkr3GbPEss98mrt93q45mjVolrM745hJw1iUMj5VLzGZMsAbZi23jjZpbu3brJ2XDQCHRAktoEyEiGLs8r3huBcO6JEZ2pgll55gw9jGUCSVhOF8+6WNCWAxhUggRjh8vOM/xjh07ess0iaFvMaRoweXccX5I5MWbjnAgH4bU9ttv7+uyXd4V0XNHazAeDfqAIDJ22223P53fsF3KFPbPdkNiX4gTDEmOK4DAwNDjmDhOyhmEFgQjk/sVY5XWdsqBmGJOl5K+myg3ITtsh0Y5DGfqVPTYIBi6lIMW+fHjx/snQqmg0ZrE+jrN/Yp3ioRnBPHMsnC9uRbc19RX6i5iAzHDdUaUUv+pf4hJ6ny0bhCOR/3gOp588sn+jGB7RQEhhCh59NFHXYgQMYKHhtAtBPRpp53mDQNcb8ob9o83ElFCPxfqEP2qmIOF/SfXIyHKG9hI3Bs8xwMF3lkodEbZYkU8HLjQuVm4ofF6hJhZxAg3O61u7IjlGGbRnQkhhCgbYNhgqGO0B6GB4U94LiIEAy4YxSwjH0IkmjCogqcCI4m8eEdocIrmQ5SE4YXzMuiCmGdiR4xL3iu8dwCBwbrJ2w0Jg5IyRz0m0fJQRgzO4OEJBMMTgxHjj9AzzgPiCHFVEtgPCWMYgYcxmZdBS7gQIUS8X3mHhtA4UTg4pwg+vBvUBUK66IsU7StF3aAOYPxT3xEi0YR4DsIZaJClLobwLuo6NhDXszhCkbpAQwDiBm8jIpX6TF8pBp5AHHE/RusnHhq8KwhVviOYo55KISoiBQoTbmxeEjwoicu84oorPFb2qKOOsgkTJni8Ji+cnXfe2R++uNqfeeYZu/XWW92FntdLSAghhAAMLYw9+nXQ8ZxRtGj1xjhMNxiuH3/8sXtKiAY49thjfc4RxExc8J6l8/2zzz7r4T28c5M9S6JgaAjda6+9/HPUqFFuoyB2i0PweFMXEbcHHHCAT9ZZ3GtCHSdsDM8I0yxce+21PnLp2Wef7SFlyYIHUY4gwlOCQEI4US8pixAVmQJVA61GzE76+OOPe5wsiZAuWg/uvfdej4/kQU5rBey5554ewkV+1L0QQgiRF7w7CFEh9IYWbQQJAoVW7+J0lC8qNJ7xnsPoxFg87LDDNoTKxAWd9JnJHs8NniLC0giVLk7IUGUFwUDoFsY7/aQI3eO8EoJVHPCm4SnkOjCqGnYOXrmSiEXWRYDg9aB8bB/Bkgo8JNwDfDJB6HHHHVfi/QtRHqiSlZWVw0RVmYDRuegMiAtTiPJKiAUO3wkNwaCivxWjvQx+YITN3aS7Waf9zZpmoONrzjqzcaPNJr3Nm9Hs4GvN6jVd/z1OVi83m/GV2eejsAbNuvY327SrWfU/ToyXdtauNlv4q9nY4dZ61Qzr0nEb69Wrp7/0CRciEWZBWAVGBC3XhIHQmhmMAj5lIJSccO/QOkxfE+4dwBjnnJP4nq5zHe5bjD/2wb5Cq3Wc15fnRUgByhH6G6iuFZ7w/MXrxL3MOUSwFBU8adRL6kjw6EFc14L948HDc8O+Q98X1QVRkcBGop4PGDAgd0khPCZCCCFEOsDIQgzgNUEI0oJM4jvegqgYTAdsmxQGOgix++ncZyowODGgw/GT6DSfTlFWUQn1if4i9OkI0RxFhbpHvaAeZqJecBw0ihAiz+SREiWisiBhIoQQQogKAwY8giTdwjadUG7ESfAcSpSIyoKEiRBCCCGEECLjSJgIIYQQQgghMo6EiRBCCCGEECLjSJgIIYQQQgghMo6EiRBCCCGEECLjSJgIIYQQQgghMo6EiRCi0pNqKE4NzymEEELEi4SJEGknJ/F/tln2mvWzjsed2O+6xP69HInE35koSygHZSCtW5u5cmQn9r0uUYZcECHJSQghhBDxUiUrKytn7NixuX/Gy8CBA61fv37WrVu33CVClD9yEkY2KXxft26drVmzxqZMmWIjR460wcMetLmNtzHbLFHPG7b0fPGSKNv3b5lNH48FbtbzNLM6DRPLYza+1640mzPZ7Ls3E7uuatZhD7OWifNStXpuhphAmCydY/bNy9a6yiLbrvO21rt3b2vVqpU1btzY00YbbeQzbzMbN7MvM8FZdLI2iRchhBCiZGAjrVy50gYMGJC7RMJEiBKTSpisXbvWpk2b5jfdfYPvt9krE4Z4gxZmNet4vlihaIt+TRjjcxNfEsY0YqB6Tf8pVvCWrFi8viyUo1Frs7qNsfLX/x4XOevM1iRE0vzp1rZ5A9t+u+1cmLRs2XKDMGnWrJkLE0SJhIkQQghR+kiYCJEGUgmT7OxsmzNnjr3//vv20ksv2e+/z7LVa1Zb9tps96YgXLIThvq67HW2DkOZbfgW0oRvPHcPmTSoy0A5fK8Ii8RH69atbcstt7TOnTu7l6RRo0aemjRpYvXq1XNRUrt2batevbqEiRBCCFGKSJgIkQbyEiYrVqywWbNm2fTp023u3Lm2dOlSX7Zs2TJPCJQgUqLbEOkliAqERhAheEjwlDRs2NAaNGjg3wnjqlWrlic8JlWrVpUwEUIIIUoJCRMh0kBUlARhQlq9evUGIbJ48WJbsmSJLV++3D9ZtmrVqg3ChPwSJvGAoEBkIEwQHSFcC1FC+BaJ7yyrWbOmJzwmEiZCCCFE6SFhIkSaCKIEgjBBdCBOSAgSxEgQKvwdPCZ4V8L6EifpJYgJRAYJTwgJgYKnJIgUxAnLECXR/iUSJkIIIUTpIGEiRJoIgiKIC4QJgiN4RLjxSIgUPCV8Z7m8JZkDsRH6jiBAoh6S8D2aJypKop9CCCGEKDoSJkKkiWRhQkKYRAUKogQhEr6H3yVM4id4PBAceE4QH3hI+MRDEkRJ+D2EcUXFiISJEEIIUXwkTIRIE1FhEj6D6CAhSBAipGRPSUgiPoLICKKDFEK2+B71koTfw3rRTyGEEEIUDwkTIdJMVGTwGcRH8I6EZfwdzSsyQxAeySIlJJZHUyD6XQghhBBFR8JEiBiICo7o9yBMwndRdkgWIMkpEP0uhBBCiOKTSpisj08QQqSFqHFLaFAIEeJTqWwkQrj45LqEUK5wzYQQQggRHxImQqSBqCBJlZJDhpQyl6LXJHqNQgpEvwshhBCi9JEwEaKUSTZqo38rlZ+UfO2EEEIIkV4kTIRII1HDNhi3ycuUMp8K8pYIIYQQIv1ImAgRI6mMX6XMJyGEEEJkHgkTIYQQQgghRMaRMBFCCCGEEEJkHAkTIWIizGmiVD6SEEIIIeJFwkQIIYQQQgiRcSRMhChloq3uzPCuVP5SuHbRaymEEEKI9CJhIkQpEgzYqDHLZ9TYDSk7O1upjKTodQnXLprCdYz+LYQQQojSpUpWVlbO2LFjc/+Ml4EDB1q/fv2sW7duuUuEKJ9EjdVkQzYYu6mMXpFZwnDByfOY8Hf4Pb9PIYQQQhSPkSNH2sqVK23AgAG5SxLvVwkTIUpOEBnRz7Vr19q8efPs119/teXLl/9BmPA95AvriPgIwqJJkybWrFkza9y4sdWoUWODQKlWrdofxAokfxdCCCFE8ZEwESJNBHERhAZpwYIF9s4779jTTz9tv//+e0KM5OZJ/Lf+//Wfuf9UOsqCcd+pUyfbbbfdrFevXlavXj2rXr26i5LwiThJ9qaAhIkQQghRMiRMhEgTycIEj8iMGTPs8ccft3vuvc9mr0j8WL+ZWY3ani92Fv1utmxB4o5PfN9oS7NqNdZ/jxO8RKuWeFka161hm2+2mXsrQthUXHBt8GD99NNP1rJlS9trr73s6KOP3uA1qVmzpie+I06CQAGJEyHKPuEZHO7X8nivhndK8K6HBhIhKhISJkKkiWRhQofq6dOn26OPPmp3Dx5icxpuY7ZFop43aOH54iVRtu/fNps+HmvarOepZnUaJpbH/JJbu9JszuREWd6yLq0b2gnHHWO77rqrC4A4Wb16tYvGoUOH2sKFC61nz5521FFHuUiqVauWpzp16rg4wXMSDfEKhkF5NXaEqOhgyId7vFGjRla/fn2/n8sbvENoQMHzTuNIeD7puSMqEhImQqSJIEiiwmTatGn22GOP2T33P2BzWmeZddzXrEmb3DViJFEeG/+U2Y/vJv5IvNT6DTKr13T9b3GyeoXZr1+bjRtt3ds3sX+df57tvffeLgDihIfg5MmT7ZprrvHPXXbZxQ499FDbaKON3ICpW7euGzMYAcGDgjCJtlhKmJQOyfcMn8C5jZ7zin6uw7HzGeDYMUhV1wpHqDvc3/Tru+eee6xHjx7WtWtX23zzzf238sSyZcvs22+/tXfffdcaNGhg++67r22yySYbGnJUJ0RFIJUw0XDBQqQBXpK03JH8dVklcatVrb4+hCr2lNhv1WoUgrfZ+nJkpCy55UiUoWrifARvRAidiiuxT/aN4ccABStWrLBFixbZ4sWLbenSpf43La78Fq6hSB+8lMaNG2e33HKLXXrppZ7+97//2WuvveYercoABiiNGDTWcfyXXXaZ3X333V4fo2JF5A/navz48TZkyBCbNGmSNzQQolke4RmFx4d74Nlnn/X6QV/FIMCEqKhImAhRQpJfFPwdTaLsgiGzatUqW7JkibdQYiTz95o1azYIE13H9MJ5/vnnn+3111+33377zTbddFNr06aNj5iGcVYZwEvXokUL22yzzax27dr23Xff2csvv+wiWcK48HDeELQMOkIL7HbbbefehgD3Med05syZ9uOPP9qUKVNc/FEH44LrSYgWoWY//PCD13mePcnXmQYUPCT777+/tWvXzt5//32/R+bPn5+bQ4iKiYSJEKWADNfyCcYAIgQxEgRJVJSQdG3TC+cYQYhx1rp1ax+MoHv37ta+fXs30ssr1Bs8b3ji5s6d65/UrWQDFBAlXbp08WPfaaedvJWflvJUecWf4Txxbt9++20Pz0TgUYcIzyQcDhADCAE8D/fee68NGzbMvVKEfCECZ8+endbzzbbpL/LBBx/Y/fff7/sm3X777Xbfffe5qOIeCM8bQrWo/x07dvRwdwQWx/fLL7/4seq5JCoqEiZCpAFeGnpxlH24RnhNghgh8TdGREW/huH4MpmiYEBioHfo0MFFCd8JvYvG0qfaBilOUu0/pAAil1Z5QtRo6X7rrbe8r8BXX31ls2bN8noWXQejk9Zxjh2juryGH2UK7lnCMT/88EM/9wg86k+0szgiMVyTCRMmuID5+uuv7eGHH7ZRo0bZl19+6dtJFzxT8M6wT+oDIWeE8L3xxhtehhdffNHnvQp1gnITborncIcddnDhSn7KjYdXiIqKhIkQaSRqrIiyB9cHgyEIksoiSgIcI8eMMYfRFPrYsCx6/JwTxFvUs8Qy8uHtYD2Wh2UYgfzNZzinrEOrNa3CLC/u+Y2WOdnAjwv2xzGE40vePwbmSy+9ZIMGDfJ0/fXX2yWXXGJXXnmlz2tEyznnRJQO1CtEH94EhgDfZ5993KiPQn+Tbbfd1s477zz3VAwePNg9J1tvvbV9//33PrQ71zNdIDSYKwmP2BlnnGG33Xabe23OOussD1288847PaSR+yTAOqQtttjCO/Ij3hFVhKAJUVGRMBEiTcRtLIniE4zbkCoDGMbEqxNC8uqrr7phRsvtc88950benDlzNpwPWvlpUaall0SrL8NhYyQ9//zzHh5DSzQGOR10P/roI3vzzTftvffe81Ze8n722Wf21FNP2TPPPOPbjxpgRQEjlP4BlPnzzz/3MKk4QYgQZkVYDYlO1kEgBTAg6bh82mmn2R133OHn9Z///Ke36o8ZM8b7CiDoROmAB4HRRfE0ITTopxQ8JQG8b3hR8MYRMognAu/Uzjvv7CFf6yfBTZ9YRChRPoZI32+//dw71rZtWxcqu+++u99vCFbqdzIIGvLSZwZRQv0XoqIiYSKEEAmCER5SRQfPyMcff+yiAlGCcMDQpxWXUbFYFjpfM/wqsfEjRoywG2+80R588EH/ToszQoNwFFp78YYgQvAWME8M8fNsj/wPPPCAi55PPvnEJ7csjjBBFCAEmB+Ikauuu+46L3OcYDgSnvXvf//bLr74Yj8++o9EjdqmTZt6qz0JYxJjeM8993SjmWPgfCJmROmA94wQp1atWrnoSPaWQBAqXCc8I3j5ECMM684gC4RKhf4o6YD9U66Q+JvnDOWggQDR0rBhw5T9qsiPOKEeIcKijQZCVDQkTIQQlZ5UL/iK/tLHGKNfA52E+/fv75NMHnnkkdarVy/3CCAgQsw7oSZMRMlvGEkTJ070sBnWZy6q448/3nbccUdvhWYEIQxy4uIxwgmTmTp1qnfiPeaYY+yQQw6x7bff3luwiwMGPQIoDO+czvCbVHA+MITZN2VAvCXXFUZUwtDEa4JBGSbtxPAlce6TW/RF8UHkUlc53yTObarzy3XCqEfcfvrppy7KEdQbb7yx9enTJ7ZR4CgHifqDoOIe4f5B0IZ5SqJwLCzHs8OxUveK63EUoqwjYSKEEJUQhMFWW21lvXv3tgMOOMA/SUzkhnFH+BYtuRhQGG4IDcJQEB8YgXyS98ADD/T1t9lmG2/xpdV6t912c/FB6y9GFGKFDskHHXSQ7bHHHu45SGWAFQSiCDGE94HhYI8++mg/hjhBZHTq1MlF1sknn+zngOF+KVsqOH8YkXhJMIoRKoQaVZahkOMALwhilfrG9ckLhDLhhXjzGAkLrx/hU4R4UScRjVyvdBJECWWhAzxhjwwZfPjhh/u9k5fXJnhNWC/0bRKiIiJhIoQQlRAMHQw5Wv+/+eYbD8miL8QLL7zgHo4wpwtGFC22obWfhHBBiGCgI0YwBjG02SaJPKyDwUheOu5uueWWvj8ESXE9BqyD8YbIodPwcccd5wZlnHCs9A845ZRTvBMzwgRvSF7CBFGC4UnrPH1MOGf0a0gecUwUH84jdYpznV+IHPkQ2XSCp28HXkDqI/2g6PcT6nu6IRyLPlmPPPKIz2dCgwCivVmzZvnWCY6N37m/8qpvQpR3CqzZtELQqkA8LzPSMnkRNy831Pnnn+8z1Q4fPtzHAAfilK+99lq76KKL7IsvvvBlQgghygahxZYQJJ7RjBJFIjyLmHs8HPkZdxiAeC1IGOl5GVIsx2BHSDBSEt9LAwyyMCEhoqi4IqckYBg2b97cDUnKkmr/nGPOIwMFjB492vvzZGVluZDh3LENUTpQB7gWhCCS8oJzTjgigxKcffbZbsPssssu7gFkYAa8hNHQQIQOv9GHikEfCLkqrnAJ9x3lw06iEYCBGygPoZDUZ44jFaxHubCzuI8Q+8XxOApRHihQmHBjcsPwMN17773tpptu8s5ixGgSD4nKx73POOy4/bm5N998c3flI1CKexMLIYRIDzyXabWloYnRjDCsMdB4zhMmlZ/hjDCoX7++h5XwPT9RgFeAdwMCprRaeDH2Me7oG4AhiWcn1XuGZTSiMYoR7yu8Fqxb0ncS6/Ne5D1ICkP/RrfLd5axX84xrfGEtjEaU+fOnSVKShnqGf2gCJXDeOf6pLrO1FXOPQIAQUmIIX07sHFYD48W6wYQ70zKyEAQDODAiGrUKa5tUaE8DJyAUH3llVd8RDs6szM4AgI7TMKZarQ21qUseDIRJfQ1kcdEVFQKrNm8VIgJxtXIC4ubmocxDwJc6AgQ3KKoeIaA5JMWgL59+/qNRCucEEKIsgXChBGtMHp4vhNuRYgSz3haZ/MyvoJxVxjjOuTlM6SSQFkx3gg9w0hkdCy8PKmg/BiaDCv85JNPeiw/65Y0Nh9xgxGLccnoY2Ho46ghTB4EC2VkNDN+pz8M5xdBFwRSdB1RfAgRJFQQ7wahUVznZML5jp7zUB9DPUWwRA1+RAiDPOBZpB7R8IpHsTh1iPqIkGaiTYbSxj7CXqIu0RGf5QhZjiEZ6g9iHJGNiGLkMSjp/SREWaRAYcLNyk3PDcALgGEeESI8dG+44QYfzeWJJ57wG5ibjg6RPHhxM9IakTwRECNQEBZGZ0nGv497RBUhhBD/P1s2LbShvwNGEs/l5JCVYNBhXIXl4e+wLDkPKRhOYXl0/eJAmRECDD3MpIV45QmRSgXGP14VhvP973//6+vQSo0gKwkYppyjW265xSdMZKI+3ofBWOX4aLl/9tlnvZWdchx88MEeYcBy3qF4b4rb8i7+DB48Ijc4n3g4EBKp6hrXKCznumDsIxJobGUSQzyF2DsBGmbpD4QQQByEASGiXpXCEuojAhk7CHF911132bnnnut9lU4//XQPkad+BygnCW8K9yQiCfsr7n5VQsRJoX2BqHtGQUGMcJPS34ThJC+//HL/5Obmho8qeERN8oMX1yXjv9PBEq+K4iSFECJ+aESiE/nMmTPt1FNP9TCuv/71rz7MLeFGNDABxhyG+LHHHuuhSLQa0++Q5zdedAQCggYw+vFO4H056aSTPASGuU7wuuNJZ13eJcWF1mxajHmP8EkHfMJaUkHrN6NfEUJFfxCOk4ayVBPYFYXQ+Z390/hGWWj5Di3tNLaxH84RhiR9E6644goPheY8MJkejXMYqWqYKx0Iy2JQATqzIxLvuecer2dR+4NrwYzvJ5xwgo+Addhhh/lQ2YgYPrlGCJGox4RrzcSGXG+uNf1Y6DPF8qKC+Kd8zMGDeEIM8ckEpyFdc801XkeiIGjoKI/HhiG3Q30WoqJSrU2bNoN4KeUHHeDpJEbYFsMjIj54ECA8uJF5wNL6g2DhOy81WjDuv/9+bykKbscA63PzM2suNzyxoUJUFGjh4oVIaxytYuO+mGDLG7Y1a7GlWZ1GubniJMds5rdm86Zy85l16JN4S9ZZ/z1OsteYLZ5l9ttE27RpHevZo7sbdXl1+EwXvOhp9XznnXfcC4yxgQHLs4zWUhJGOcYHxgSNJzzreGaFhhc+o40w5Q3KznmnhRhjh2d2t27dNvQx6dq1qz/vMfw5FzzvaVFGXPBMJzFMMMKGvik84zlPnCOe/bTqMpcJ+ZjnBA85eTGq8BxEjT/eHbQGM3Qq7wP2y/lOdX5ZFvoGYEyyTdZhWTR/aCnnk2uMKGGbHB+zfZO/uFB2xBsT8rE9ysFIT9H6gVChbvM787Yg4jgHIXGOGeY4KmgClBVjmU+GJA7vWpE/nEfuXUKhOH/c19Q16iO/4eVAlBLmxfnkN7whjOxGPeJ6cc+Ha0j+sC0mBmU7XDuEQ171syC458LzJVVi/9xHbJu6SxkI73rxxRddWFGXuN/IS57ilEGIsgQ2Eu9k+noFCvSY0KJDixifvGjofMWNTd8RvqPkcU/zomCce1yduCJxr5MvujMhhBCZJRg0iC4GKsGwRmTwfKevCWEiDKVKaAwGOEYYwgPhwmAn0YSRRv7QgozhRUMTk9VF82HQ4SnIr1N9EPR4aKIhN0FkBDDUKTdemSB0kmEdtsE7CBFKuRBWiBLEQEmg/HibOB+IKPo2sP0gMILRS/k4r9HzEBLnFyEczkXycZNE4QkGOiKb60KdxMuHLcL1B4x5vCr777//BnGN5wSRGAR41NDHrqEPFiNy4ZVDvOAx5JoVRxCE+456kl8K28ZYI4QLW4p+M5QRe4qO8mFbQlREChQmCA3c9LRqEVNLTC9xurjrr776au9fwssBFyU3Lzc6YVq4UgnZ4kYTQghRtsCwoXUW8YHHiJAVvrMM4x/DOXhBEDH8jUEeTYwQFFr0g9GFSGF5qrzRFulkMMQwwDAGGbmI77x3ooR9IAQQGJQvlaFIvxk8DnRQJ1yG8BuEFw1o0T4ExSGUge1wPJQlun++Uy4MyORzEBLnMroe4Uf0PeHYafTDKBZFB0GIWDzyyCO9/xTnMfQpor4gaBHTiENEBp5Brgf1OxlCwfB6c60RMYR+YevERfDs0h+J+ou4p/yUNbm+C1GRqJKVlZXDcJGZgDlQcPPTwiFEeSXaqssnrZ244IkzHzlypA1+YITN3aS7Waf9E2/Otp4vVnLWmY0bbTbpbawms4OvNavXdP33OFm93GzGV2afj7Ke7Zvaxf+6wI3F0NoeFxgcGIGDBg2yL7/80ltXaVjBK4BhTqKRBeORVtRUBjCfMg5KDvcLhiP9MB566CH3zONVITSKMBtCxzA2i3quCcEhBIbZvQm54h3D9hATGJplDeohIzMRNoSXhwZB+hHceeedG8SiKBzUKUK26PuK4KYucS8XFYQBHiwEZPBsxQn3AsKKEC7EP545nkV67oiKBDYSDUn0YQ/InSGEECJjIEwRD/RfPPHEE72TOK3ehF4V17uBt4Jt/uc//7G///3vPrEh2yqrRh0ihH4+hBXRWMes8gxEgDAui0KqrIMhj6jFw8A5LA6IEbwTmTr/iFEmJiXsjz5bJfX0CVFe0BNPCCFExsAAw0uCIYkHjVh++r3QGbm4xhit3BintJbTaZl9YGCWVWGChw5hQt8chBnnATGFaJMwKRpcY1Lwchb3/IXtZKrOsF/KTl0OYX+ZKosQcaInnhBCiIwQjC8ECLH+eA5IfKelO1X/kcLAOqxb1gVJAAGClyccP4kQruIev6gYcO2jSYjKgISJEEIIIYQQIuNImAghhBBCCCEyjoSJEEIIIYQQIuNImAiRdnLM1q4yW7nEbPmiDKTFZmtWmK3LXp9WJv5ekSpfmtOKxH4ZMnjdWh9OmXkGGNaVITHjTOyT+QmYIyMM8yyEEEKIzKN5TIQoIRi3wcDl80/zmAx9wObW28ys7fZm9Zp7vnhJlO3nj81+m5j4XsVs56PMahd9XP8Ss3a12fxpibKMtQ4b17dDD+5n2223nXfwjROuDfNEjBo1yj+ZUZkRoTSPiRBCCBEfqeYxkTARooQUKEwGD7a58xeaVaueuOMy5KTMXrPeWwLVa2FZr/8eJ5wjJntMlKVa1So+RwDDYGYCrhEekxYtWvh8FxImQgghRLxImAiRBgoUJkOH2dyarc1abWtWr4nni51pX5jN/iHxJWFMb9fXrFbd9cvjBHG04Fez6eOt/Ub1bO+9+vjEYXF7TJjRmZCuF1980RYsWOBlkDARQggh4kXCRIg0UKAwGfaQzd1oR7Ote5s1TgiUuKFsX7/oIVTusdn7/IRAapz4IWbDmn4uM79PlOUF26VdYzv9b6dZz549fQ6HOMFTMnXqVLv11ltt0qRJ1qFDBy+HhIkQQggRH6mEiTq/C5FuEAO16pnVb27WcOMMpBbr+5RUq7E+nKzBRomUKl+aU4NEOeomBFG1mgkxUtvDqNq1axd7atu2rbVq1cpnBpe4EEIIIcoOEiZCCCGEEEKIjCNhIoQQQgghhMg4EiZCCCGEEEKIjCNhIoQQQgghhMg4EiZCCCGEEEKIjCNhIoQQQgghhMg4EiZCCCGEEEKIjCNhIoQQQgghhMg4EiZCCCGEEEKIjCNhIoQQQgghhMg4EiZCCCGEEEKIjCNhIoQQQgghhMg4EiZCCCGEEEKIjCNhIoQQQgghhMg4EiZCCCGEEEKIjCNhIoQQQgghhMg4EiZCCCGEEEKIjCNhIoQQQgghhMg4EiZCCCGEEEKIjCNhIoQQQgghhMg4EiZCCCGEEEKIjCNhIoQQQgghhMg4EiZCCCGEEEKIjCNhIoQQQgghhMg4EiZCpJ2cxP+kdWbrsuNP7Jf95xZl/d8ZKEsoRyLlJNK6des8ZWdnx5rCfimDEEIIIcoOVbKysnLGjh2b+2e8DBw40Pr162fdunXLXSJE+QMDNxi5weBes2aNTZkyxUaOHGmDhz1kc5t2Ntuyh1mjlp4vVijbt6+bTfk0ccdXMdvzH2Z1GiW+5/4eF2tWmc36wWziq7Zj24Z28l//Yt27d7caNWrkZoiH1atX2/Tp0+3uu++2yZMnW4cOHaxXr17WunVra9y4saeNNtrIGjRoYPXq1bM6dep4GatVq5Y4fetPGp/huxBCCCGKDjbSypUrbcCAAblLJEyEKDEFCpP7h9jcNTXNGiZESa06ni925s8wWzI78SVhTG/Syax6ojxxg9dk+SKzBb9Ys/o1rcPWW1vLli2tatV4Hbd4TZYuXWoTJ070fXfq1EnCRAghhIgZCRMh0kDBwuR+m7t0tVnthmbV4vUObGD5QrNVSxJfEsZ0o1ZmVautXx4nhHKtXmm2YoHVrVXdNm7Rwo3/uA18rg9ek5kzZ/r+O3fuLGEihBBCxIyEiRBpoEBhMvRBm9u0k1n73cwabuz5YoWiffeG2bRxiS8JY7r33zMXyjX7R7Nv37Ad2ja0v5x4gt/7cYdyrVq1ymbMmGGDBw/2a6RQLiGEECJ+JEyESAMFCpNhw21um+5mHfc3a9rW88UKnopxo81+eCfxR8KYPuQas3pN13+Pk9XLzX792uzzUdajfVO7+MLzbZ999rGaNeMNK+Mh+NNPP9mgQYNswoQJtvXWW1vPnj0lTIQQQogYSSVMNCqXEOnGDdhE4jOTycsS/oksjzPlwrdg3NPPI84U9ithIYQQQpQtJEyEEEIIIYQQGUfCRAghhBBCCJFxJEyEEEIIIYQQGUfCRAghhBBCCJFxJEyEEEIIIYQQGUfCRAghhBBCCJFxChQm2dnZ9sADD9ill15qF110kY0ePdqXT58+3a6++mpf/tJLL/m8DfDpp5/aVVddZRdccIGNHz/elwkhhBBCCCFEfhQoTBj3f+edd7ZDDz3U04MPPmhfffWVPfPMMz752E477WRffPGFff311zZ//nx76qmnbJtttrHevXvbNddc45PNCSGEEEIIIUR+FChMmISsS5cuPjt7165dbdasWTZnzhx755137KijjrJ9993XZ0hmBmUES926da179+52wAEH2OrVq23ixIm5WxJCCCGEEEKI1BS6j8mpp57qAqVXr17WqVMnmz17trVt29YaNmxotWvXtoULF9rvv/9uTZo0cU9KjRo1rF27djZlypTcLaxn8uTJdskll9h+++1nzz33nIsXIYQQQgghROWmUMIEr8nQoUPt888/d8/ITz/9ZDk5Ob48wN/JywgDY1mU9u3b2w033GCvvvqqHXzwwS5ghBBCCCGEEJWbAoVJEBzQqFEjD9P64IMPrFmzZu4hWbZsma1atco9J82bN7dFixbZypUrvW8JHeTxquRHVMgIIYQQQgghKicFChOExnfffWc//PCD9xdhpK1ddtnFevTo4R3dP/roIw/j6ty5s+2www7e/4TO8B9++KGLFpYJIYQQQgghRH4UKEzoAzJmzBi76aab7JZbbrFjjz3W+vTpY0ceeaSLlSeffNJH4aJj/EYbbWSHH364vfbaax76de2113o4lxBCCCGEEELkR4GqoUWLFnbZZZfZkCFDbNiwYXbiiSd6+BV9RW6//Xa7//77XaTUrFnT8zNM8J133mnDhw93r4oQQgghhBBCFITcGUIIIYQQQoiMI2EihBBCCCGEyDgSJkIIIYQQQoiMI2EihBBCCCGEyDgSJkIIIYQQQoiMI2EihBBCCCGEyDgSJkIIIYQQQoiMI2EihKj0MDeTEEIIITKLhIkQQqRAYkUIIYSIFwkTIdJNTo5Z9hqz1cvNVi3LTFq7KlGOdWbrEolyrE6RJ+0psd81KxNlyLa1a9fasmXLbPHixbZo0aJYE/tcunSprVmTuCa5IEKSkxBCCCHipUpWVlbO2LFjc/+Ml4EDB1q/fv2sW7duuUuEKH/kJIQHKXxflzD+MXqnTp1qI0eOtPuGDLO5ddqYte5sVq+Z54sVyjbtM7Pfv0/8kTC4dzzUrFb99d/jJHu12fxfzKZ+Zlu2qGcH7r+fderUyapXr56bIR64NrNnz7YxY8bYvHnzrGPHjrb77rtb69atrXHjxp6aN29u9evXt7p161qdOnWsRo0aVq1atQ2CReJFCCGEKBnYSCtXrrQBAwbkLpEwEaLEpBImeASmT59uTzzxhN0/ZKjNWrLGcuo2NqteyxK5Pe8Gkv5MC0vnmq1YmPiSMKabbWpWFTEQs2Gdk73ea7J0jjWsXcPatNnERUDVqvE6brk+PAinTZvm4mO77bazXr16WcuWLb08jRo12iBMateuLWEihBBCpAEJEyHSQF7CZMGCBfbJJ5/YW2+9Zb/99putWrXKW+tXr17tn9nZ2Z7IH9YV8YCoQBC1atXKtthiC+vQoYOLEURJw4YNrWnTplavXj0XJiS8OhImQgghROkhYSJEGkglTBAcCBD6MxAuNHfuXFuyZIktX77cP+lfwe8kRAzrSJjEQxAlCI0GDRq4Z4RPREn4G88JYVy1atXyhDBhHQkTIYQQonSQMBEiDURFSUgIE7wieEm46RAjdLhesWLFH4QJeSRM4iMIChJCIwgPvCKIErwkJL6zrGbNmp4QJlExEv0uhBBCiKIjYSJEmgiCBBAZJARH8IogSPCWcAMiSvg7iJIQziVhEg9BlJAQHEF8RPuUIE6CpyTav0TCRAghhCgdJEyESBNBVASBgtBAcCA8Qr8Sbr7wiScliBJSWE+kl6iwCOFcCA8SogQxgkgJ3hJ+Dym6bvRTCCGEEEVHwkSINJEsTEjBcxLCuoKHJIiVqKckJJF+EBQhJXtO+ESEBFESxEt0nbANIYQQQhQfCRMh0kQQFdFPUhAnJARJ+B71kkSTSD9RkRFSECBRMcJnqrxhG0IIIYQoPhImQqSZIC6SBUcQJMnLwncRL1FhEQQIn9HvfIYE4ROi34UQQghRdCRMhIiBIDSioiN8T14W/RTxkyw8wneECUSXQfS7EEIIIYpPKmES75TLQlQCgvEajFoShm4IFQqJ/gxh1CelzKTQpyR8husUvXaB6HchhBBClD4SJkKkkWRjNmrwKpXNFIh+F0IIIUT6kTARIg1EjdzwXalspuT+JCElXzshhBBCpBcJEyHSSNSwDcZt8jKlzKb8rokQQggh4kPCRIgYSWX8KmU+CSGEECLzSJgIIYQQQgghMo6EiRBCCCGEECLjSJgIERPReUyUyn4SQgghRLxImAiRBvIydFMtVyp7KdW1EkIIIUR6kTARopSJGrF8X7dunVI5SlExEr2WQgghhEgvEiZClCLBkI0ateF71PjNzs5WKkMplSAhhesXPqPLhRBCCFG6VMnKysoZO3Zs7p/xMnDgQOvXr59169Ytd4kQ5ZOosRq+Y+yuWbPGVq9e7Z9Rw5bfILqeiJ/q1atbjRo1PDHRYnSyxej3QPgeXSaEEEKIojNy5EhbuXKlDRgwIHeJhIkQpUIQGEF4wKpVq2zq1Kk2ceJEmzt3rrfMh9+j+UVmQFxsuummttlmm1mbNm2sZs2aG8RJtWrV/iBMoimsK4SoPKR6VqfzORD3/oTIBBImQqSJqNAIaf78+fbqq6/6jTdjxgz3kvBiSfXCSTchVAmCwR030XMDlCGkOIme/x133NF69+5tffr0sfr167sgIeFBCd+TBUog7nILITIHzw2eozQ40YjBsyGdz4Cwv7Vr1/rfPJOSn0FClHckTIRIE8HY5TO8UKZPn26PPvqoDR482Fq1amUdO3a0Jk2aeL44oTzjx4+3H374wf8++OCDrV69ev49Tghp+/XXX23cuHH+ckUUtGvXzl/wccKLfuHChfbJJ5/4eUCUHHfccX5tMDgwAGrXrr1BnBDuFRVzyZ9CiIrP4sWLbebMmfb222/bXnvtZW3btvXnRLpAAPG8xOPOfnbYYQdr2rRp7M9LIdKJhIkQaSIqTBAlpGnTprkwGT58uB1++OF24okn2tZbb+354oQy3X777TZ69Gg3pkeNGuVCKW6WLl1qH3zwgd16663+cj377LP9BY8YiBMegpMnT7brrrvOQ+0Sz0A74ogjrFmzZlanTh03AurWrWu1atVycYIwCa2jUVEiYVJyqJv0v5o1a5b99NNPXkcAwdi6dWsXrlyPin6uMXh/++03+/333/3ZwfE2btzYdt555w0hhiIzUEdXrFhhn332mb311lv2zTff2Pnnn+9CIZ0NPMuWLbNvv/3Wn9d43/fbbz9vREGc6PkjKgqphImedkKUErzASOE7Bkb4GwMXoxeDN+7Eftk/xg2JvzNRFvaJsY+RT+J7psqBsUsZ6PdDy+SSJUvcEMAA4W+8KmHEruh1FaUP5/vrr7+2Bx980EaMGGEvvfSSvffee+7h43pUBhBmX3zxhb3yyiv29NNP27Bhw+zhhx92oUYdFJkh3Ps///yzffTRR5723XffP3hL+J1nPR5hvCoLFixwjyx/s7y48HxkPzRmsb033njDvv/+ezfi9EwSFRkJEyFKSKoXRHhx6OVRtsHo40WPARgVJrTiI050DdMP12DevHnuxWrYsKEbfr169bKtttpqg/EXJVwTjL6QyuI1CmXk+KhPfOZV1o033thb4GkV55N8tJaHOigyA+eea/fOO+94SBXeioMOOshatGixwYvFtVq+fLmHXSGwP/74Yw9X5W8aPLjuxbmGNJywP+6Fbbfd1qZMmeLlmDNnju9TiIqKhIkQpUD0xcP3aBJlF4wGhAjCBOMCYYJQCYZkMCp0HdNLOM+MkEa4ym677Wbt27dPKUwAw4zrhJjkWpVVKN8vv/ziIoM+Z9SvVHVpo402si5duvix77LLLi5UaHFXvcssPBsIyX3zzTddiBx//PEeBkt4XQilmj17tj3++ON2zjnn2HnnnWfXXHON/eMf/7AzzjjDvYCMyFic68j28XRvscUWXi86dOjgHrUff/zR64YQFRUJEyHShIyKsg8GLoYtRi5GCC/8EMbFb1xDXcd4CIZYCLXje3IsPdeEluinnnrKTjnlFLvwwgvtww8/zP217ECfEUKxMGRPOukkN1QZYOHMM8+0J554wkN+oq3etI5j7IZwR/o1iczCfU9YFqKE5wODl/Ts2dMFSrROcr0Q1CeccIJdf/319t///teuvPJK9wI+//zzNmbMGH+mFBfuA0Tr3nvv7Y0nn3/+uYeWCVFRkTARIg3ImC0fYBwiQhAnGA+VSZRwbBhcdLhm1LbXX3/dW2QZrQzDGqEWzgEGGqFWEyZM8HAVvACLFi3yDtuffvqpx79PmjTJl9FRl7AX8uIpYFuEtBCK8v7773v/ETq659fqGwRJMAC5HuRnXQaUoC/KV1995fsk/j5OOB+cm++++85j/gmtCR6fKJSZkef69u1rRx99tH+ntZshxL/88ss/eESixyrKDnhSuVaEbm255ZY+pDhErxXLtttuO9tzzz3d04fHa5999rHNN9/c7y/ugagILQqhXhDiiPhh3iU8OCQhKioSJkKkkWRjRZQ9uEYYDtHEsop+7TCMEQgY+y+//LLHrzMU6jPPPOPGM4Z/EGmEq9A5m+XPPvusdwJmlKLXXnvNO6u/+OKLbqSHIVUZfY1l/EZexA55aUFmP3RsL0orMnkpA8IJYUSrNcM742mI+zohSmix5jzh/eBYMUCj5WCQBfoFMNrbsccea8ccc4yPzEefAYxKjFXEcEWvY+UZ6j2heIzcR2jdJpts4p6sZAGJpwvhQjhe8HhRNxmxi/ylEWqI16RRo0YudvDE0JhQGZ5RonIiYSJEmtBLo/wQXvLRVNFBmNDqTygUHg7+JjF8PKNCPfbYY26YcS5oOUZwIE4wxp988kn/xDjHa0EcfTDO8Y5gzCFIGGGK+PtHHnnEvSoY5YgXQlIw/AoLxh0jV1EGWqcJ4yLmPhPz8dBPBKF1//33+9DXDMOdPHoWRiTD4FNWRlZCkHTu3NmHP8awxasUzS/KHtwLeACp2y1btnTxURgQ0YgH1kOY0EckdJQvLqyP6KH+cE9Sf4py/whRnpAwEUJUeiqLGIlCq/7+++/v87k89NBDduONN9p//vMf+/e//+0dfPGY0GEbA4gwJDrz0qeD4UvxeOCt+Nvf/mb33nuvh1YdddRRboRjkF9xxRV22mmneSvzjBkzvMWXjsEIFGLw8SQURVRQVoz8O+64w/trEFaT3HIdF7SQYyAyehbH2qlTJ+8Tk5/xyTkMw8hiYHJ+U7W+i7ID4plrhtBAWCI2C7pe5EU8I+r5ZACHAw44wO+VkkJ9QRyxD8QJwkmIioiEiRBCpKCiCxUM6TDqFS28hCfRB4KWXoweDKAwihQGWTRhnG+zzTbWtWtXj7FP/j1A2BOGOKMKIWgw0FLlKwwYZuyLUJmirluacM523XVXu+mmm+zOO++0U0891cuVlzDBM4KBy+R8GKuIN4Qe51CUDwpquOA37hc8gu+++657FHfaaScX/oiT5LoRthdNhSXU/UzeA0KkEwkTIYSoRARDiFZ8QlUI56KPCTPw0rH8ueeec5GSVx8IxAUtt8zM3qBBgzxbgzGc8JQwoz6ddunAy7LiGFRhvSBsMglGJh4cvCZ0SOb4WJZcrnCOEX3MFs45puUdMcd68piUbRCOXGfqXBhOPNX9wDLEJ32gECX0g6Ku4ymhI3yyAA352R6NAGEyxlTbDoS6RDmoN4h9PoWoiEiYCCFEJQNDh3AQRsmiMzt9RzDCiIdnWFSM7bwEB8ubN2/uqSDjGu8C+QiDQaTECcdIoiWbhDEYlpUUtsF5iAql6HbDd/rdMEgA/XHwmjByE0POBpEmyi545rhO1GEEBNcvFQgG+lUhShjgASHKQAeIEgR8qAvR+oHAYNQ6Qr4QMoxYx3byA+8jHjfu08aNG+d5fwpR3pEwEUKISgiGFt4RjCJa8Q899FA75JBDPASFUYXyAu9AGH2oIOMa4YIhFQRMnMY4hiAd7RlJjA7qdFjPa4LDooDAwdPEdjEqU83QjpGJIYnoQ5TQX+evf/2rHXjggd4/JpWHRZQtqLMI6ugQvanqDh3RESTMW8OgD+RnhC6G10aUIvqjgz2wDe495kdhkImhQ4d66Bd1KC+oc9Rl6hpih3DAuO8nIeKiQGHCDcGNc9FFF9kFF1xgo0aN8gcuM5qeddZZvpzfGTEFePgPHDjQZ0EdN26cLxNCCFG2IHyEyQp5xrdp08ZbhzG4Gf4WAytqhBHWhXEVOt2Gv2n5xdjH6CI/n/weQl/IF/4mFRSykhesQzkZJpUy876hLOwbw5CWZFqq2X4oC4YeHe95V9HhHsOREcQoV0lgfUYyu/vuu327jDqG0RgMTz5Dn5LBgwe7Qbv99tt7J3nOAQYr5cKbEtYRZQ+Mfu4J+hNxvQjHo44l11+uNd4Sficsi+vLYBAM1EAaPny411HuBWC7iHoGQAAGkkDA5FcXWJ/+X9yXjEZHfy0hKioFChNadpg0iBFXSIzegmqnlY2WASaO2mOPPbxlgZuWlilmKd13333t6quv1oNXCCHKIISo0NeBMJQXXnjBDWxmqSZshbCrEHrFMxxjizlJGP6XuU94B+ANoKUXoyoY+wgDDC28BHgU+I63gPcCjVoYV/m1DOcFZcCQp4xDhgzx/TJvCkY/E0MiPtgfRmIwHEOLMushZigHfWdKKkzYPttAJCGI2Gf0Pcd3fuOcYqzyncQ5oYWcYYYpK8Zmcc6FiA/6UCFM8J4EAZEsTMiz8847uy2Ex5H8DAyBeCAx9wj9TKLeDQQPAyDQTwvvYxhAIhn2hSBHkOB5Id9WW21V6KGLhSiPFChMuFmIOebGo9WHDl60+vDS4obD7Y9rmpccD35uUoTMfvvt5zcUD2YhhBBlC57VvXr1cuOI5zSTK9IRnpZ9+kFgXGE0AQY4M7zjBSe2HeObGbHpo4LBhhcdgpeCSRtZzvsjzPtBqzICobjGOO8TysAEjbxrMBY5Bmahx8vDXCx4UQKUk5Aa3l9MkEcZESlspyTQ2s25Yajg3Xff3d+BnCca8YBzQ+s4++IdSRkRJpy7zz//3BPirjTCykT6oO4ypDUTZWLj0PCKoMQ7Fq3D1LEjjzzSLr30UrvkkkvsX//6lw+rTTr//PN9zh36bGEzcb2pH2F9BAveSupoXsKE/XF/cm/S6MugC4RHClFRqZKVlZXDhFr5wc1x8skn+wvhsMMOs0GDBtlVV13lMZI8eGkpYFx6JttCuBx33HHe4ZFx7xmZ4uCDD87dkvkDmRaj8ePHuzv+nnvu8ZejEOUV7o9gYIQXD4YJXsUw0hH3yIABA9wNHzeU5+abb/YWW15+tHQTRpDqRZhOaJnHYGWYVYxG5rXYZ5993NCLEwxCnkM8xzCuadXEEMdAp1MpCWMDgxLDBKMToyLa0ZnPuM9faRGtqxjrhG/Res/xMGoUx43hxO9hVCI8IaQQjhLAGMe4omGK76xDvhDeFYXtkC/aN4X87B9PDZ6Qfv36uTHH+Y6e37At8iZvF8gb+rOE/htsG88Gnho8LJSLMGNaqrnGxYX9I24QHkBZQ4s4id85f5yDvEQY61CvQt+bAGXm3YhnBSHDecGoTR7ZScQD14Priaimozqft912m4tSrkv02hUE2yLRsIuI5jnM9hC3J5xwgosT7pEAeamzTFQawsHOPfdcb/jlPoKi7F+Isgg2Es9S7KNAoTq/U/lxlTOKBIkWMR7wvNSvvfZad2/iTudGit4o4UUVhZYH4nKZBRi3px64QggRHzyjQ8LAwZtAqzBeAEJEMJgRJ4SbBMMZMcEyhEs0YeAHMRC2TV6WJ+cl3Dc/ERoMNwxBUvibFMqbarskOutTviAeWR/vCcY9BiAigTkl8PqTrySwfc4LYTXReVVI4XeEB+cvVVlJlIFtBFIdt8g8XEvqNg0XNC7ttdde3qCCWKA/SVFB0FInCYlHaFx55ZXuWUGUhHsogKjGxsJwo/7SOMwgFRIloqJToDCJPiR50GZlZbnbnBcBNxIeE+KU8X7QykiLVmgtY9Zg+qEIIYQoWwRjOhMpmeCVYZQwBlXBYMNbQP8NSLWN/BJGH56HW2+91d9RTIKIYck7LNkALCqp9kcKpPotvwQYoHiMzjzzTLv++uvd8A1eGJF5EJqEs//zn/+0s88+24U83tSiQj3HY0e412WXXWY9evTYYEslX2uEK40GeBERJXhKELTReiNERaTAJzRCA7cj8Y3E9fIARd3znRFOiB2msyTihNYovvNCIGQDgcIyIYQQIhUYfcyfwlC6NHwRZkgjV36zqRcErcqE5hF6zJwSoS9N8KiUNSgv3qCWLVt652YGlMHDw/KSCilRMoIQQNRST+k/Sx2NerwKA9vgWrIdxHKYdDR4JZNhOSHxeEkQM3jaVBdEZaDAWk5M8Ysvvmi33367D49I/xFuFEYcoTWKT/5G+fMyoa8JnSgZLo8wL91IQggh8oJQKPpe0YH4+OOP9/lUCJmhVTp0vi8qhJdh/PG+IgyHDsN5GYBlAQQJLfL0x+zfv7+deOKJLqiiYXIisyBqEYr0SSuJaGY9tlXQ+uRhP5tssomHWCLgy2r9FaI0KfDOQmxcfPHFdt999/mY7Lw4eFjSx4RldASjVSrEPdIyxbIHHnjAXY9CCCFEKjC0QsswIw5hnJP4zmhFof9GUcGoY7sYc+XBsCecp3379j7CVzgHCDPCuSRMhBCVCT3xhBBCCCGEEBlHwkQIIYQQQgiRcSRMhBBCCCGEEBlHwkQIIYQQQgiRcSRMhBBCCCGEEBmnSlZWVs7YsWNz/4wXRvZi8qBu3brlLhGi/BGdhJRPJhdlmO0pU6b4rL0PP/yw7b333j4MKkOYxg1lGj58uL388ss+wtGdd97poyDFPfRkmImbEfsYNemkk07ykfsYeShOVq1a5ZO/Mvz55MmTfcZzhpRlngvmkiAxGiGTmTGJGkPWMroTZQ7njM+4z58QQghRkcBGWrlypQ0YMCB3iYSJECWmIGGCId62bVvr3LmzDwuaCT7//HOfJBVjGoHE+Phxw8zeM2bMsM8++8zLwdCoTMyKwR8na9eutYULF9qHH37oIoUJY8MEfBImQgghRDxImAiRBgoSJsz/M3fhUrPqtZhgwfPFzuoVCYt89frvtRsk7vyqibT+z9jgHGWvMVuz0mpUq+LiqLjzVJQErhHiZMmSJdasWTOfM0PCJH9C/S4IibXiUdD51XktPJzL6Pksr/dqOIbwGY5BdUFUJCRMhEgD0Rchn38SJkMfsLn1NjNrs71Z/eaeL1Yo28+Je3zmt+v/3vnohDjBYxLzC27tKrN5070sHVrWt4P7HmTbbbedG/1xgudm1qxZ9uSTT/onoVwSJvkT6jh1Gy9Tdna2/8054LwgMJkIUJMBFg/qJGKZ50aA80rd45zKGC08oZ4SOsp9S2KyzfIGx0CdoG5QB8I9progKhISJkKkgWC0he9/EiYPDLe5rXcz23YfsyZtPF+8JMo2/mmzH97Fojbre5VZvaa5v8XImhVmv35jNm60dW/fxC4871zba6+9/IUbJzwE6Vty7bXX2ldffWVbb721+pgUQKjXM2fOtPfee89mz57tRlLdunW9v9Luu+/u503CpHj8/PPP9uOPP3q9DMYo57V///5e/6h7onAgnOfMmWPPPvusN3xstdVW1rJly9xfyw88p3755Rfvl0c/vIStZi1atCiXIkuIvEglTPQWESLtJAxYQqeq1TCrXjP+xH6rJgwbDGkSf2eiLJFyVE2cD4x9REnciZc8+5YRXXQw+F577TV7++233Zjm70WLFrloiYPQCBBNZZVUZSWlAmN68eLFNnfuXPvpp5/srbfesueee86WL18e27kt73BuEXXUy1dffdXeeOMNF9B5nfNMEq0PISXDdcfr8/XXX9uLL75o77zzjs2bN8+Xp8ovREVBb2YhhBAFgjFEyxbGMwJvhx12cE/Tjjvu6J6TZA8S+TGiggcghH8Vx6gK67ENtrVixQo32jHo2X5xt5suKAvHjueUcxYtayqhgYeOwTH23HNPb+VHPP/6668bzpkoHAsWLPCBPl566SXbYostbJNNNnHPZzLh+oQQulTXpLQJdZRrGq0XfPJ3+D1A4wles3bt2rn4R6z+8MMPnh+ieYWoSEiYCCGEKDSEkhAaw6hqhOFiSKcSJsAAAxMmTLA333zTW7KjfSiKQjDovv32W3v99dftkUce8SGwx4wZ4y3KtCyXJUMNg5fWeo77iSeesAcffNAef/xx+/jjjz0cLhkM0G233XaD0COsUBQNrj9h6aT58+fb8ccf7+eUcMxkEIn0L3vllVc8nJPvcUD9R3ASDjlq1Ch76KGHvK8b3pClS5f+QSCF+4xwVxoBGNGQ8v7++++xCCkhMoWEiRBClAMwvDBsMMIZ7pjP4C0oCAwZ1qXlFW9DXi3xLCMveTCUaJ0tqhHENmgJnjhxoj366KN2ww032C233OIt2RiEeZWX5ZSRlJyH8tIaTjwyfQcYchoDlO0zLw+hZXGHlFHO0NqeXF5CbjAin3/+eR+WGnGGiLrrrrvcEJ06daqvK0oHziX1g7rBuT/wwAPdAxX1lnCNqEf023jhhRfs1ltvtf/85z8emsj1SDfUE7yN77//vj399NP2wQcf+D3xzDPPeL1AbCOQonWJvkV4TPr06ePiBK8J9xWCX4iKioSJEEKUYYJR/sUXX7hBgzHOpJ0jRoxw4xePAXlItBSPHz/eW+cx4om1/+abb9wwZl1aaPE40NEaQ56Ql8cee8zz0rrPxJMY0qzPfjCsERmFJYga4vufeuopbwnGEKRTN8eQLBwwwkjsgzJiMGIoTps2bUPISgCPDJ6EXXbZxefi6du3r3Xo0MG9KBhslB2xkG7YBwYk5wajks7JeEiix4ZBiRdp5513diOZTuw9evTw1m5EVFgnWdCI4kGdmzRpknvlGAJ83333dY9DdJAK6hihUAhE6if5+ZtriQiPA8rCIBF4GQ844AA74ogjXHAg2IcNG+YCiXoR8gJ1qX379u6dRIAhTLinhKioSJgIIUQZJggTBAeighbXTz75xEUJYUIY8/yO0UJLKsYWnWURHISLMOM/hhj5CSEhdIVwEgw1vA6sj8hB7LBt9oFICfvBaCoKCIpPP/3UQ0823XRTD02i5TqIkGRYRsdvyshkpLQcf/nll+4RCmCcNWzY0A05RAmjgPXu3dvDXDBEOR6M/jiECeeDyUop67333uvnF8M4emxMpEp/kYMPPthbu7t37+6GKBOtcqwIrzjKWlkIHjoGtEC80r8kKkqAa4RA/v777/36MER4qjCvdEHZmjZtarvttpsdfvjhXi+ow5QDocJ9y30chAmEY0DM4Dnh2BAviHAhKioSJkIIUYbBMKEjLEOFYuyeeuqpdsYZZ7jHgNAQRAheEQxdDB88CgcddJC1adPGW4MRGXgVdt11Vzv55JNtv/328yFUGzVq5Plo0Wc9WvHxAiCEaHH+y1/+4sO50/JfFChrp06d7LDDDrOjjz7aZ/evXbt27q+pQYRgMGLwY6BhQGJIBsI5IOaejuJMzkn5N954Yy8foowUhwcCwxGPEwlvFS3vySFvoeMyoglBhQEcviOyJEpKl+Ax4ZxT71MJjnBNqPPUS0QB9TIqXtINgxogiqjD1AXqMfWCv6kT3Hup6jBl5x7dcsstfSS83377zfPFUd+FiBsJEyGEKMMQktKqVSsXC3gMaH0nrOPYY4+1rl27ekssBjIGMwYZQoDwEIx2PAkYNAgMjLF99tnHf2O0IubHoKUWjwaGEeuzrUMOOcSOPPJIN9zYFyNwFRaMPMqAKMGbQQsvRlVBxh9lPemkk+ycc86xv//97y66MNgCrE+ifOE73iFayelTwPFsvvnmRSprccGYxPtx+umn26WXXupiD2MTwRFILiuiCWOSEBzOOwYm50WUDnixGGaZ+kYK5z4KXjvul7333tuFM38n50knoS5EE2IWzyL3L3WCxgfqRzLkRUSRBxFPgwQiRoiKiISJEEKUYTBKMHpJGOGEVxGiNWTIEO8ETmhQaIHHICMfYoZPWmiZ2R7xQQttmMOF38gb8gHGNZO4EX6FgU8+EvkKC2UlP0YU+ypo3ZAfrwceHcTJMccc46E4eYkMWokJ3SG0jbk+yIeAwiDleNIN5wShyIRgp5xyiu+bY+VYUoEBSZjZ/fff7wYlYjAIvrzWEUUD4UefKepdKsMeqGdcp1AvM33uqceEVRI6SeginlBC/cL9GIWyUu8I6WI9PHTyuomKioSJEEKUYTC6MGzpIzJ48GAfeYiwJ1pOkzuTR8H4QozgDSloVnYMH1qQMYzC0L9xGm7sC0Od8lKO0HE5SghdQZQQmsZ5QJRh5BO+FsodCPk5R6Twd2mA8UgoGeUNYWqpyosoIcSIfigYn3i66FOAFyu/6yGKBueea1Ka1xjC9kqzDrE+oWd4z+iIT9giHhw8jDQOJNejQNh3ONa88glR3tGTUQghyjAY4vQhYYSrKVOmuPFCSAfDoSI68vISYPgSVkXoEa2t+Rky5MXAxtimRTkugrFFIpSMYZBp+UaMReF3CP07aGXG4GdULkLO8PIkHyPrIAzoUIynAhET9lUSWB8jlbKSwhDI0e2GvwnTeffdd12YEG4W5qSQt6R0of4iTDH4ScnXo7iwDeoifbWoQ6HfU3G2HcqEpyOMzsZwwdzP9PPinsbbk6pesB51jtHDuN+pP3F4B4XIBBImQghRhsFQZ/QsRnJiyNkzzzzT+5d06dLFhUReRhIGDsY6BgyGW36GML+RpyABkw4oPwYfYS1hBLHk4YKDYUbneMK3GFIYAz/0s0lVbtZBlOBpIvSNYZAREiWNzcdQZZJEBh1gsABCyhBM0etAHoZuZshkysp+6TvD9aMDvyhdENOcVzqGIyDyuieKCtcVzwbeOYbbpg4Fz0lxoF4gVhmQgjqJKGGUOUZvyy8ckP1xP1AWGhvwuKXyKgpREZAwEUKIMgyGEK3yGDUYuHgMmNOEMBBCulgOGC94VzB8CHWi4zuGOV6WMHpUtHUfMYChTwdyWoTZNiNiMZ8ILbohb1EgP+WhjIzyRYswIoOO6pSDPjEIEIx2jiuAQcns6FdeeaVPyMj8K5Q9wDYpI5PiYexjMCLMKDP7oN8N+6TMAQQIhhyT19FJ/fbbb/d9l3TOCs4bwy4PGjTILrjgAu87gjcmHA+flJXrc/fdd3und2bJJ/yGc4vnCw8Y5SipSBLrwdNAfeBcM5cJ5za57uKpoI8WdYAZ+LmHuJasw/1C3WQYXu6hAPWW+sV1vOKKK+zqq6/2a12c68Y6s2fPdmE9dOhQvz/p/4X3A3GLZ417FGGVDPWfe4Z6EwZ6EKKiImEihBBlGPpc0GGaUaowYGhpxTjH+KVPyPbbb++eE1pPMV4wpJg4EQMNwytMzEjLfZgbBKMNTwweClKYAwSDm5nJETLReUSKAi27THjIpI1M1IjRR+suBuHDDz/sZUGsBEEFeDzovE44C0YXx8qyAEIEYYMxh4HH35wD+twgOJhThNCYqOjAA0SLNNujjw3nBiM06okpDmyX801ZMSwZnjYaVkP5EFVchzCUMceOcXvHHXd4efG0YCRHz4EoPngR8KBRr6n31F++R8UJ9wK/MSkmkxkiHLm3qBPUHeom4iQqiAlvZJQ7Ro3jWpE3VahhYUCwcp9RBtanHnG/MYjFnXfe6XUDbyG/B8IxUCaW46ljskUJE1GRqZZ4qA5iNIhMwMuLGGEe7EJUFHiR8BKiNZcWrnFfTLDlDduatdjSrE6j3Fxxkng5z/zWbN5UYnbMOvQxq1ln/fc4yV5jtniW2W8TbdOmdaxnj+7+ko07VhqjACOVlmsMBYxg+ihgpGCIkDB0aMkkvAIDmdbuaDgUn3GFUbDvMOcBZaBchK0QFsToVUy8hpFMSyr1DuMckYGhz/lFvDAMKcbV1ltv7esDxj3iBuOZPOTlWcxcD2yXdcgbjpN6jWFGOAuGOV4A8lK+KJQBDwjnDUHAuWW/bJPRrNgH86iEDvlsn20QnoIRyAhihGex7VA3MPYxLClDEARsl2PmOPnO9lk/HF8ArwnHyT6YmJHzxfUtLpSZukL5mNk9jGQWQmsoI+cW7w3HyjuOslHOkDh+joNzn3z+MD4Rk3wyQlmqPOKPcN65poQ8Ihyo/1wbzhvXC7jvEaV4RPCwcA9RL0nUf65LqKOcc2Bd8iIyqUPULUZi4/eiPreoF9QJ6jL7oF4gMEIdJrGMv6NDZVNuxD0TnlIGhv6m/ucX+iVEeQEbiTrOcz9QJfFQzeFmzgQDBw70m4yRSoQor/DCIYXvGGa8GGnhpdV48AMjbO4m3c067W/WNCFQ4iZnndm40WaT3l4vRg6+1qxe0/iFyerlZjO+Mvt8lPVs39Qu/tcFPq9GsiGZbjBwmfOAUBxGSsIw6dmzpxsGGMskOpVjfGLsYJgEcRIMAT7jMgqoUzy4CSGhlR3DBvGEcMAAJnEOES78hjDBOIuCgYUhE+0sTx0ltIT1o3BcnAO2FzW22TYtyjfeeKMbcjRoYSBxbqLngvpPOTECKXcylANPBuc1GI2sQzlYh20Fwy9sNwiTcPzJkJd1KDffwz1JS/N9993nMf0Iicsuu8xFQUmESbjHuR4QxGwoK79hgCJ+OSbyJ0NZOQecO84B6wB5ESWE+oRwPYxUzpnIG84bde2hhx5yrwOeNWblR6hSj7k2oQ5xb0RD/gLc39zz5Od8s03uEfL/61//cnGAqB0+fLhf71B3CwvXmPrN9vhMVS/YP3WD+snvrEM9Gj16tHs8ud8QRgga9h+974Qoj2AjcT8w/HpAHhMhSpnwQpHHJAl5TIoF+2H/GCyUFXGBUUvZMO4xpIKhFAx0fo8mDHaOL4irsE08Mcl5SWw35A1Qr/GYEAuPYcc5ItwLQ4vtsG/KQOI3vCqptk1eyh7dNt9ZP5z/5H2zTdbhOFJtk31x3OQDykXDAKFe9HXh+jJpJJ6YqCAqDpSL9dkOKVmY8Z1leZ1bUlT0Af0Kpk6d6n0MeGYQsofAlMekcIRrgheEuknfqzDhYhB2oQ7ldV2oW6HeA6KdvkuPPvqoXxs8Y8cdd5w/s4pTf0K94D5MtX8S9w1lBN4h1AFGoCNRx5kklYaU5DonRHkllcek+E9nIYQQlQpEA8IIbwFeCFr0+aSTcFmC1nFauzHqDz/8cPvLX/7i84dExUtZggELCJGjTw79HTif0fAwUTgIV8QLS+srwpTBHAh/Kg7UHwwmwq6Y+PP444/3+XLiuh4ILI4Bw40wx0MOOcS23Xbb2D3MQsSNhIkQQogCwSDD8GPOhb59+/pM7R07dvSwkrJmLFEeQt323Xdf23///d1TQotzWRQlQCs+QoSJ9miZZ/jYww47rMTencoG3g4iMPbcc08PEyeUCzFdHPBq4Z2gDjH/DNEdCNu44Lpz/RltjDLQpwtvi4SqqOjoiSeEEKJAMJQIlcFgPv30030+FVqmMaIJgylLBlMQJggSyhwMfMpYFg07xB0t/cx1wnk966yz7KijjvLQHgmTwhGuLdeeEK6TTz7ZdtttNxfTxQEhS2d4+nUQDkb4FMRVfzgOwsZoBEAYUZ9DiGNZrMNClBZ64gkhhMiXYAxhJBNehJEWUgg3KkvGUihPeTHkyst5LQ+E647HA+M+9BkpKmyH6xIVtHFeC/ZFHcBLE/oZxbl/ITKFhIkQQgghhBAi40iYCCGEEEIIITKOhIkQQgghhBAi40iYCBEnTKoVd8qLVHnTmfKA+THiTEIIIYQom0iYCJF2MMzXma3LXv8Zd2JWaTfIcwVCTqIcmShLpBz8xwRizDeRicS+JVKEEEKIskWVrKysnLFjx+b+GS8DBw70sca7deuWu0SI8ke0JZ5PjF4m52JyrJEjR9rgoQ/Y3LrtzNpsb1a/meeLFco25ROzmRMTf1Qx2+lIs1r1GfZl/e9xsXaV2fxfzH4eax02rm/9+h7kY/Qz8kyccG2YdG306NE+uzPDgTL5HkOMMuwtiUkEmTOA4VrD7N7RUXHiHqFHCCGEqGhgI61cudKHng9ImAhRQgoUJvcPsUWrq1iNhs2sao3iTfZVUlYv/N3WLl3g3+u02tKqVFs/Jn+c5OSss+wVSxJlmWX1a1Wzdptuak2aNIl9ngauz/Lly/36MPla586dJUyEEEKImJEwESINFCRMhgwZajVq1rSNW7ayOjHOHBxlxi/Tbe7s2f69Y5ftEoZ2zYRh7X/GRvbatbZo0SL7NVGWqlWr+EzXTZs2jd3A5/qsWLHCfv75Z5/nQMJECCGEiB8JEyHSQEHC5OGHH7YDDzzQjjjiCJ9JOG4o09ChQ+2FF15wY/r+++/3WYTjZtmyZfbpp5/6/jHymZkZQYDRHyerVq2yadOm2W233WY//PCDbb311hImQgghRMxImAiRBgoSJo8++qgdffTRfuN16NDB88UJ5bn55pvtiSeecGP62WeftVatWsVuWC9ZssTee+89u+mmm9zIP++882yfffZxr0Wc4C356aefbNCgQfbll1+6MOnZs6eEiRBCCBEjqYSJRuUSQgghhBBCZBwJEyGEEEIIIUTGkTARQgghhBBCZBwJEyGEEEIIIUTGkTARQgghhBBCZBwJEyGEEEIIIUTGkTARQgghhBBCZBwJEyGEEEIIIUTGKbQwYeI4JiS77rrr/PvUqVPt8ssvt/PPP9+ef/55n1AOmKzx0ksvtX/84x/22Wef+TIhhBBCCCGEyI9CC5NXX33VJk2aZB9//LHP0vj0009b8+bNrXfv3jZhwgRP8+bNs6eeesq6du1qffv2dSHDrNNCCCGEEEIIkR+FEiYLFiyw5557zg4++GD/G2Hy3nvv2ZFHHml9+vSxhg0b2ldffeXihO/dunWzvffe2/N+/fXX/imEEEIIIYQQeVEoYTJ48GA74IADrHXr1v53dna2zZkzxzbZZBNr0KCB1a5d2xYuXGizZ8+2Jk2aWN26da169eq26aab2rRp03ydwE8//WQXXHCB7bHHHjZmzBhbvXp17i9CCCGEEEKIykqBwmT8+PG2dOlS22677axKlSoemrV27VrvZ8LfUVgWhd+Tl2255ZZ288032zvvvGOHHnqo1axZM/cXIYQQQgghRGWlQGEyY8YM+/LLL+2YY46xs846yzu3X3PNNd6/5LfffnPRsmrVKmvUqJG1aNHCPScrVqxwr8r06dOtXbt2uVsSQgghhBBCiNQUKEzoV/LCCy+4ICGkq0ePHu7x6Nmzp40ePdr7miBGunTpYttvv73Nnz/fPv/8c3v33Xc9TAtPixBCCCGEEELkR6H6mAToP7Lzzjt7n5L+/fvbL7/8Yi+99JJ16tTJdthhB/eiHHHEEfbBBx/Y448/7p6VqlWLtAshhBBCCCFEJaRIqmHbbbe1q666yvuObLHFFnbTTTfZXXfdZYcffviGviJ4UvCo3H///ZaVleXLhBBCCCGEECI/5M4QQgghhBBCZBwJEyGEEEIIIUTGkTARQgghhBBCZBwJEyGEEEIIIUTGkTARQgghhBBCZBwJEyGEEEIIIUTGkTARQlR6GAJdCCGEEJlFwkSImMjJyclIyotUedOZ8iJV3nSmgkCkhCSEEEKI+JAwESLNYAyvXLnSFi1aZAsWLMhIWrFihWVnZ3vKZDmWLl1qa9as8bRkyZKUedKdFi5caIsXL7bVq1fnXqH/FyNVq1aVIBFCCCEyRJWsrKycsWPH5v4ZLwMHDrR+/fpZt27dcpcIUf6ItsTzuW7dOje8p02bZiNHjrRhw4bZpptual26dLGmTZt6vrj59NNP7dtvv3Wju3///lavXr3cX+KDc/LLL7/Yxx9/7OXYddddbfPNN3cxECeIMwTK+++/b6tWrbJOnTpZ7969rVWrVta4cWNPzZo1swYNGlidOnU81ahRw6pVq7ZBtPApASOEEEIUH2wkGm4HDBiQu0TCRIgSk0qYrF271n799Vd79tlnbcSIEe4dwMDFCA/5o+ulG/a/fPlyN6YxujPhGeC84KWgLFC/fn2rXbt2RsqBOMFr0qJFC+vcubMlnoPW8v/au7MYqYo1gON1BRlAnRFEFgUZEVFkMe7jLgoGFxDiEhCCEDA8aFyeJCHGm5joqz4Z476h0agEcHswBBcWBUVnNG7s6ADK4DZuoNz8K6fMyYR7E730HPv0/5dUuvt0MzFWddX31XK6f/+YlNTX18f/R+m/j2JiIknS/mViIlVAPsHgMSUmBL4tLS1h1apVobW1NW6nYoY+FYJjPsfnKeo8JBUkZ/369QuDBg0KjY2NMRlpaGiIiQkJSkpM6urqQteuXU1MJEnaj0xMpArIJyUpMSHpSKsDbBtqa2uLiQqrFlxrb2+P77O9KSUn6e+oslJSQaJB8sG2Nh5JSti+lZ737NkzJiUpMcmvMpmYSJL0/zExkSokJSWpkJiQdJB8UEhEOPjNqgmPvOb9fGKizpFPTNii1a1bt5h8kJSQjFB4nrZwUUhM8slI/rkkSfrrTEykCkkJSXpOokHCkZIPEpK0lYtHvohcJ4GhuGLSeVJSwQoICUdKTkhI0pkSzgOllZK0jSv92/RoYiJJ0t9nYiJVSD4pSSWdIaGwakJSklZQKFzPJyXpb6iyUkJBYkLCkZIPEhISlLSCkg68Uzpu48o/SpKkv87ERKqQlFSkBINCwkFJCQrJSHrOakl6PyUm6jwkFZSUnFBISFKikrZv8X5KSlJJ/16SJP19JiZSheQTk/SYSkpOKPnX6Xn+86q8jgkGheQjn4hQSFL29dn0XJIk/X0mJlKFpeQin2ik52llpGNRcfLJRkpI0vP8e/hvzyVJ0l+3r8Skc39yWSq5FLCmoDaVNAOfStouZCm2UA+pLqiXlJykesvXZcfnkiRp/zIxkfazfBCbHikp6M2XfLJiKa6k+kj1lOqMkuSfS5Kk/c/ERKqAfGDbsaQg2PLPKB3rJj3vWI+SJKmyTEykTmSQ+89j8iFJ0j+DiYlUQfmgNx/4drxuKa78r/qQJEmdx8RE6kT7Cn4txRdJklQ8ExNJkiRJhTMxkSRJklQ4ExNJkiRJhTMxkSRJklQ4ExNJkiRJhftXU1PT3hUrVmQvO9f8+fPDuHHjwmmnnZZdUa3au3evd0eSJEWOCYLtoNyee+65WMezZs3KrhScmNxxxx3h2WefDY2NjaF79+7ZVdWi5ubmMGrUqOyVatHPP/8ctm3bFo4++ujsimrR119/HQORPn36ZFdUi9avXx+OPPLIUFdXl11RLWppaQkjR47MXqls2tvbw7XXXhtmzpyZXSk4McENN9wQbr311jB06NDsimrR6aefHt55553slWrRJ598Eu67775w7733ZldUix599NEYjE6dOjW7olo0d+7cMG/ePCcqatxZZ50Vli9fnr1SLfCMiSRJkqTCFZ6YHHXUUS7VKgwfPjx7plrFds5BgwZlr1SrDjvssNC7d+/slWrV4MGDjQ0Ujj/++OyZakWXgQMH/nvOnDnZy87Xt2/fMGDAgHDggQdmV1SLSFCPOOKI7JVqUbdu3WIbIDBV7WpoaIjt4KCDDsquqBal2KBr167ZFdUiJqtoB6odhZ8xkSRJkqTCEpOvvvoqPP/882HdunXx4POVV17psm2Jbdy4MTz55JNh+/btYcqUKeHss88Ov/zyS3jkkUfC559/Hu/Ac8stt4SePXvGu/K8+OKL4eOPPw6nnnpquOyyy0KvXr2yv6RqxV23XnnllXiTgz179oQzzzwzXHHFFeGnn36KB96/++67cNJJJ4Wrr746rp589NFHYdGiRWHHjh1h4sSJ4ZxzznFltQSo+3vuuSd+z7lN5AUXXBDGjx8f65u7NP7+++/h0ksvje2jS5cuYenSpeHll1+O/+76668PJ5xwQvaXVAYbNmyI4wDf7zFjxoTXXnstvPnmm6FHjx5h9uzZf27vpG1wCJo7dTGGuO2zHN5///3w2GOPxT6f7/v06dPDkCFDwsMPPxy++OKL0K9fv3DzzTfH9sBY8MILL8QbpRA3XnLJJcYGJVTYGZPFixeHX3/9NQYmBCufffZZ9o7KiICSzmb37t1h06ZN8dqrr74avvzyyzB58uTw/fffx4GH91evXh0+/fTTmJCQnHi3rnIgsDz88MNjEMr3/plnnolJ6eOPPx7++OOP+JtGvH7rrbdie6BfqK+vj9cJXL799tvsL6maHXDAATEZueqqq8Lll18eFixYEN59990YkLKFi/Nmb7/9drxdLIHIE088ES666KL4b+68886YzKgcfvzxx/g9/+CDD+J3n8e1a9eGM844Ixx88MExCCVOYGKL/mLSpElx8orntoNyaG1tjf09k09MUJN40ia4zmsmrPiti99++y3GAkxmExt8+OGHYc2aNdlfUZkUkpgw2PB7Bfxuxfnnnx9nxZkVU3n1798/XHzxxfFAY0JiwgwZtwOcMWNGHGzooEhGmA258MIL4+dJZLiu6saZAQKO8847L86OcpZg8+bN4amnngrTpk2LgSdBKbOlDD4EJMya0244GE+7UPUjMTnllFPiD+uOHj06rpwQeDI5ReDJaskPP/wQExNW8wcOHBhXWLlOIOskVjmQWLBaQiLCdx88p19gMuKaa66JcQH9wJIlS2KckOIFYggCV5UDOyboE6jbQw89NCYmY8eOjbEBv3HBpCUJChOWKTbgXCr9Bn2FyqWQxISZT5bs6IAYpLhPOQGKyov6JrikvhO28zE7wnvHHXdcbAMMQrSPdJ0Oiy1AbPdRdaPuWa7nkWCUGVLuuEJwcswxx8StnBx8J+jYtWtX/CyDFIdfmUlndc1Z0nKgHpn1JBg599xz4xhAgMEEBm2AFTSSEOqcvoAVVwrPt27dmv0VVTO28j7wwANx684hhxwSr/G9Z5zgNVu16AvY2kdfceyxx8Yf3uQ9PrNz5874b1T9WC1l9fT2228PW7Zsid976p+xgnpPsQHJSYoN6CeIC4gPVC6FJCYpuKCTAY3PgKP2UOf5NkAwwjUe0/X0qPIgILntttviKhmDTL6+QRvYVx+h8qA+X3rppbgiwvYdZj7R8ftOUJq/5lhRHgSj3Bb6xBNP/LNO83VLvafXtIN8H9Cxnah6sfrBKjnb+6nvhQsXxsnJfN/PdUp+rOC67aCcChntWSlhvzkzZDQ2smFvFVt7uB0kh+HpbNi2QZDKrDmz5Gz1o220tbXFaxx8U/Vrb28Pd999dxg2bFg8Y8BqCDNjzJKxh5gZMWbCaAOcN2ILH+2D1TVm0x2Iql8KMsDBVbbvkZyw1e+bb76JbYCgg7MEjAv0BYwXBKfMpHrr0HKgzglGCUzvuuuu+Iv/nC9jZpx+gq1a9AW0BVZUWVml3aRZcg89lwPjO2cJ+b6zlYv65XwR9U99M2lBP5A+R8zAdVbMuMbqmcqlkN8xYQBqbm6Oy7Rs1+BsAXvMHXDKi4GE5INDrWDrBp0LB93ZrsU5g6ampnimgMCEAYqBhxnVESNGxL3oqm4kGmzdaGlpCRMmTIjL8WzPIRBhbzmDDPVNO2AWlbZBW6DtLFu2LFx33XVxwFJ1Y7KBu+1Qt2zL4vwA2zhITAlGSD54j/3lbONgfGA/Of0Hd2W66aabTFBLgHMlc+fODVOnTo0JCGdOOVfC3dkYG5hFJyDlfBGxwf333x+TWO7iRF9Cm7EdVDcmG0g0mJxmUuL111+Pdc0WX+qZyUtujsHZRGID+g76ACauGCuIC0aOHJn9NZVFIYkJnQmNjzsqsJzPHmMOu/lDSuXFbNdDDz0UDzUTjDADyqFmDrMRmDDrQcDByggranyetkGnw+eYTVF1Y4brjTfeiIMLe8YZWLgVJLd85EYIvGZA4gA0CQiF4IR/w8QFbYFkRtWNbRoPPvhgDEIYA6hvzpswYcWhV/oIxoOTTz459gX0CU8//XQMVObNm+cEVskQnNIn8H3nxhgEqPT97KjgdsHcyY8tX0xgkKQSP7ANlGuqbsQB9AHcGnjlypVxVZz+gMmp9957L66oMfbfeOONsR9gxYT+gduHM3nFAXljg/LxBxYlSZIkFc4TpZIkSZIKZ2IiSZIkqXAmJpIkSZIKZ2IiSZIkqXAmJpIkSZIKZ2IiSZIkqXAmJpIkSZIKFsJ/AC70EDJVtMxhAAAAAElFTkSuQmCC)"
      ],
      "metadata": {
        "id": "KKZ5NPsCMBGl"
      }
    },
    {
      "cell_type": "markdown",
      "source": [
        "**Transposing Array and Swapping Axes**"
      ],
      "metadata": {
        "id": "s8GuZqJbMVxI"
      }
    },
    {
      "cell_type": "code",
      "source": [
        "arr = np.arange(16).reshape(4,4)\n",
        "arr"
      ],
      "metadata": {
        "colab": {
          "base_uri": "https://localhost:8080/"
        },
        "id": "QYiP6d9lMozw",
        "outputId": "be30f550-25dc-4fbd-d857-da4568e29dae"
      },
      "execution_count": null,
      "outputs": [
        {
          "output_type": "execute_result",
          "data": {
            "text/plain": [
              "array([[ 0,  1,  2,  3],\n",
              "       [ 4,  5,  6,  7],\n",
              "       [ 8,  9, 10, 11],\n",
              "       [12, 13, 14, 15]])"
            ]
          },
          "metadata": {},
          "execution_count": 30
        }
      ]
    },
    {
      "cell_type": "code",
      "source": [
        "arr.T"
      ],
      "metadata": {
        "colab": {
          "base_uri": "https://localhost:8080/"
        },
        "id": "jRudiBQD9qfo",
        "outputId": "570ca048-230c-431a-f44d-006fab2a89b0"
      },
      "execution_count": null,
      "outputs": [
        {
          "output_type": "execute_result",
          "data": {
            "text/plain": [
              "array([[ 0,  4,  8, 12],\n",
              "       [ 1,  5,  9, 13],\n",
              "       [ 2,  6, 10, 14],\n",
              "       [ 3,  7, 11, 15]])"
            ]
          },
          "metadata": {},
          "execution_count": 31
        }
      ]
    },
    {
      "cell_type": "code",
      "source": [
        "arr = arr.reshape(2,2,4)\n",
        "arr"
      ],
      "metadata": {
        "colab": {
          "base_uri": "https://localhost:8080/"
        },
        "id": "tJpAOCBc96pq",
        "outputId": "f41b881e-f36e-4ded-f2d0-d82e421146c9"
      },
      "execution_count": null,
      "outputs": [
        {
          "output_type": "execute_result",
          "data": {
            "text/plain": [
              "array([[[ 0,  1,  2,  3],\n",
              "        [ 4,  5,  6,  7]],\n",
              "\n",
              "       [[ 8,  9, 10, 11],\n",
              "        [12, 13, 14, 15]]])"
            ]
          },
          "metadata": {},
          "execution_count": 32
        }
      ]
    },
    {
      "cell_type": "code",
      "source": [
        "arr.transpose((1,0,2))"
      ],
      "metadata": {
        "colab": {
          "base_uri": "https://localhost:8080/"
        },
        "id": "SUQY7uP2y9f2",
        "outputId": "8b25d910-7834-4bec-aafd-58388f72e0ba"
      },
      "execution_count": null,
      "outputs": [
        {
          "output_type": "execute_result",
          "data": {
            "text/plain": [
              "array([[[ 0,  1,  2,  3],\n",
              "        [ 8,  9, 10, 11]],\n",
              "\n",
              "       [[ 4,  5,  6,  7],\n",
              "        [12, 13, 14, 15]]])"
            ]
          },
          "metadata": {},
          "execution_count": 35
        }
      ]
    },
    {
      "cell_type": "markdown",
      "source": [
        "**Mathematical and Statistical Methods**"
      ],
      "metadata": {
        "id": "opuFKIHL15FZ"
      }
    },
    {
      "cell_type": "code",
      "source": [
        "ar1 = np.random.randn(3,3)\n",
        "ar1"
      ],
      "metadata": {
        "colab": {
          "base_uri": "https://localhost:8080/"
        },
        "id": "kRuTuk3Y1Foq",
        "outputId": "f110a56e-f9ed-400b-dea3-3afc09b2ee13"
      },
      "execution_count": null,
      "outputs": [
        {
          "output_type": "execute_result",
          "data": {
            "text/plain": [
              "array([[-0.67454189, -0.44615997,  1.60605979],\n",
              "       [ 0.08708924,  0.08792219,  0.41707733],\n",
              "       [ 2.89712245,  1.12122985,  1.98625689]])"
            ]
          },
          "metadata": {},
          "execution_count": 38
        }
      ]
    },
    {
      "cell_type": "code",
      "source": [
        "print(\"Mean: \", ar1.mean())\n",
        "print(\"Mean: \", np.mean(ar1))"
      ],
      "metadata": {
        "colab": {
          "base_uri": "https://localhost:8080/"
        },
        "id": "WGHzvJI8GVzj",
        "outputId": "73c50914-5220-4d64-d0a1-de3944493d1e"
      },
      "execution_count": null,
      "outputs": [
        {
          "output_type": "stream",
          "name": "stdout",
          "text": [
            "Mean:  0.7868950969409112\n",
            "Mean:  0.7868950969409112\n"
          ]
        }
      ]
    },
    {
      "cell_type": "code",
      "source": [
        "print(\"Sum: \", ar1.sum())\n",
        "print(\"Sum: \", np.sum(ar1))"
      ],
      "metadata": {
        "colab": {
          "base_uri": "https://localhost:8080/"
        },
        "id": "ePwZQBm_GpeK",
        "outputId": "69225cc9-ec1f-48ab-bb7b-e0ab17643f4b"
      },
      "execution_count": null,
      "outputs": [
        {
          "output_type": "stream",
          "name": "stdout",
          "text": [
            "Sum:  7.082055872468201\n",
            "Sum:  7.082055872468201\n"
          ]
        }
      ]
    },
    {
      "cell_type": "code",
      "source": [
        "print(ar1.mean(axis = 1))\n",
        "print(ar1.mean(axis = 0))"
      ],
      "metadata": {
        "id": "p5QBGpMaGum9",
        "colab": {
          "base_uri": "https://localhost:8080/"
        },
        "outputId": "de46f382-0323-4046-f9f2-e68d383c509f"
      },
      "execution_count": null,
      "outputs": [
        {
          "output_type": "stream",
          "name": "stdout",
          "text": [
            "[0.16178597 0.19736292 2.0015364 ]\n",
            "[0.76988993 0.25433069 1.33646467]\n"
          ]
        }
      ]
    },
    {
      "cell_type": "code",
      "source": [
        "print(ar1.sum(axis = 1))\n",
        "print(ar1.sum(axis = 0))"
      ],
      "metadata": {
        "colab": {
          "base_uri": "https://localhost:8080/"
        },
        "id": "66yxmYQF2dIY",
        "outputId": "e8e5ea6b-d851-484a-de57-c5468011c03f"
      },
      "execution_count": null,
      "outputs": [
        {
          "output_type": "stream",
          "name": "stdout",
          "text": [
            "[0.48535792 0.59208876 6.00460919]\n",
            "[2.30966979 0.76299207 4.00939401]\n"
          ]
        }
      ]
    },
    {
      "cell_type": "markdown",
      "source": [
        "**Linear Algebra**"
      ],
      "metadata": {
        "id": "Gx9C6O3p44UK"
      }
    },
    {
      "cell_type": "markdown",
      "source": [
        "Dot Product"
      ],
      "metadata": {
        "id": "1nbUYwuU4w7W"
      }
    },
    {
      "cell_type": "code",
      "source": [
        "mat1 = np.arange(4).reshape(2,2)\n",
        "mat2 = (np.arange(4)*2).reshape(2,2)"
      ],
      "metadata": {
        "id": "qTA6fa-w3Fdw"
      },
      "execution_count": null,
      "outputs": []
    },
    {
      "cell_type": "code",
      "source": [
        "mat1"
      ],
      "metadata": {
        "colab": {
          "base_uri": "https://localhost:8080/"
        },
        "id": "Ttv2Qwf93f8U",
        "outputId": "2a181d39-31fd-4787-abfd-ff7d6bc03a2a"
      },
      "execution_count": null,
      "outputs": [
        {
          "output_type": "execute_result",
          "data": {
            "text/plain": [
              "array([[0, 1],\n",
              "       [2, 3]])"
            ]
          },
          "metadata": {},
          "execution_count": 58
        }
      ]
    },
    {
      "cell_type": "code",
      "source": [
        "mat2"
      ],
      "metadata": {
        "colab": {
          "base_uri": "https://localhost:8080/"
        },
        "id": "cmyrvTQZ3gys",
        "outputId": "72183b32-ed7c-45da-cba6-ed1e4b205b88"
      },
      "execution_count": null,
      "outputs": [
        {
          "output_type": "execute_result",
          "data": {
            "text/plain": [
              "array([[0, 2],\n",
              "       [4, 6]])"
            ]
          },
          "metadata": {},
          "execution_count": 59
        }
      ]
    },
    {
      "cell_type": "code",
      "source": [
        "print(np.linalg.multi_dot( [mat1, mat2] ))"
      ],
      "metadata": {
        "colab": {
          "base_uri": "https://localhost:8080/"
        },
        "id": "PrTQwJbl4qLm",
        "outputId": "0ea7fe87-22e2-46ce-d090-10c9caade0d0"
      },
      "execution_count": null,
      "outputs": [
        {
          "output_type": "stream",
          "name": "stdout",
          "text": [
            "[[ 4  6]\n",
            " [12 22]]\n"
          ]
        }
      ]
    },
    {
      "cell_type": "markdown",
      "source": [
        "Consider the following set of linear equations:\n",
        "\n",
        "3X + Y = 9\n",
        "\n",
        "X + 2Y = 8"
      ],
      "metadata": {
        "id": "4ytnIqLY5sQE"
      }
    },
    {
      "cell_type": "markdown",
      "source": [
        "Matrix Determinent:\n",
        "\n",
        "ad - bc"
      ],
      "metadata": {
        "id": "wVz6afO-6237"
      }
    },
    {
      "cell_type": "code",
      "source": [
        "a = np.array([[3, 1],[1, 2]])\n",
        "b = np.array([9, 8])\n",
        "# Checking if system of equation has unique solution\n",
        "print(np.linalg.det(a))"
      ],
      "metadata": {
        "colab": {
          "base_uri": "https://localhost:8080/"
        },
        "id": "Lo9-M7hx5rpI",
        "outputId": "8da43b36-2e23-4a8b-f304-aaf76505f19e"
      },
      "execution_count": null,
      "outputs": [
        {
          "output_type": "stream",
          "name": "stdout",
          "text": [
            "5.000000000000001\n"
          ]
        }
      ]
    },
    {
      "cell_type": "code",
      "source": [
        "''' Since det = 5 which is non-zero. Hence, we have unique solutions\n",
        " Finding unique solution '''\n",
        "print(np.linalg.solve(a, b))"
      ],
      "metadata": {
        "colab": {
          "base_uri": "https://localhost:8080/"
        },
        "id": "dJTTuy0B5S3d",
        "outputId": "1085b151-016a-4a66-d31d-254fd001f04a"
      },
      "execution_count": null,
      "outputs": [
        {
          "output_type": "stream",
          "name": "stdout",
          "text": [
            "[2. 3.]\n"
          ]
        }
      ]
    },
    {
      "cell_type": "code",
      "source": [
        "print(np.linalg.inv(a))"
      ],
      "metadata": {
        "colab": {
          "base_uri": "https://localhost:8080/"
        },
        "id": "rPvCKw3E58GY",
        "outputId": "93c06908-7164-4e88-eb2f-23e3e6786c64"
      },
      "execution_count": null,
      "outputs": [
        {
          "output_type": "stream",
          "name": "stdout",
          "text": [
            "[[ 0.4 -0.2]\n",
            " [-0.2  0.6]]\n"
          ]
        }
      ]
    },
    {
      "cell_type": "code",
      "source": [
        "print(np.linalg.matrix_rank(a))"
      ],
      "metadata": {
        "colab": {
          "base_uri": "https://localhost:8080/"
        },
        "id": "al25YDFrI5qC",
        "outputId": "0f8849bd-ba94-4c46-ae2e-ba3521a8a8db"
      },
      "execution_count": null,
      "outputs": [
        {
          "output_type": "stream",
          "name": "stdout",
          "text": [
            "2\n"
          ]
        }
      ]
    },
    {
      "cell_type": "markdown",
      "source": [
        "**Stacking Array**"
      ],
      "metadata": {
        "id": "CUCZBL35BIC-"
      }
    },
    {
      "cell_type": "markdown",
      "source": [
        "Vertical Stack"
      ],
      "metadata": {
        "id": "XrEcqI3XBPj0"
      }
    },
    {
      "cell_type": "code",
      "source": [
        "v1 = np.array([1,2,3,4])\n",
        "v2 = np.array([5,6,7,8])\n",
        "np.vstack([v1,v2])"
      ],
      "metadata": {
        "id": "5CQsRSWXI7zq",
        "colab": {
          "base_uri": "https://localhost:8080/"
        },
        "outputId": "46e656b8-1f2c-4f8b-de10-2c8973ce29c4"
      },
      "execution_count": null,
      "outputs": [
        {
          "output_type": "execute_result",
          "data": {
            "text/plain": [
              "array([[1, 2, 3, 4],\n",
              "       [5, 6, 7, 8]])"
            ]
          },
          "metadata": {},
          "execution_count": 22
        }
      ]
    },
    {
      "cell_type": "markdown",
      "source": [
        "Horizontal Stack"
      ],
      "metadata": {
        "id": "n9_b7ugEBU3I"
      }
    },
    {
      "cell_type": "code",
      "source": [
        "np.hstack([v1,v2])"
      ],
      "metadata": {
        "colab": {
          "base_uri": "https://localhost:8080/"
        },
        "id": "EScD6ObiBNRT",
        "outputId": "505404bc-d290-4fda-daa5-ff30a929d725"
      },
      "execution_count": null,
      "outputs": [
        {
          "output_type": "execute_result",
          "data": {
            "text/plain": [
              "array([1, 2, 3, 4, 5, 6, 7, 8])"
            ]
          },
          "metadata": {},
          "execution_count": 23
        }
      ]
    }
  ]
}